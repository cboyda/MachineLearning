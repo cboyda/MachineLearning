{
  "nbformat": 4,
  "nbformat_minor": 0,
  "metadata": {
    "colab": {
      "provenance": [],
      "include_colab_link": true
    },
    "kernelspec": {
      "name": "python3",
      "display_name": "Python 3"
    },
    "language_info": {
      "name": "python"
    }
  },
  "cells": [
    {
      "cell_type": "markdown",
      "metadata": {
        "id": "view-in-github",
        "colab_type": "text"
      },
      "source": [
        "<a href=\"https://colab.research.google.com/github/cboyda/MachineLearning/blob/main/PA5_Team1_W23%20(Cai).ipynb\" target=\"_parent\"><img src=\"https://colab.research.google.com/assets/colab-badge.svg\" alt=\"Open In Colab\"/></a>"
      ]
    },
    {
      "cell_type": "markdown",
      "source": [
        "# **Project Assignment #5: Linear Regression**\n",
        "\n",
        "Team member names:\n",
        "\n",
        "*  Brett Adams\n",
        "*  Cailenys Leslie\n",
        "*  Clinton Boyda \n",
        "*  Tanvir Hossain\n",
        "*  Ram Dershan\n",
        "\n",
        "Dataset: \n",
        "[New York City Airbnb Open Data](https://www.kaggle.com/datasets/dgomonov/new-york-city-airbnb-open-data)"
      ],
      "metadata": {
        "id": "zDOGttYXjqQW"
      }
    },
    {
      "cell_type": "markdown",
      "source": [
        "# Data Initialization"
      ],
      "metadata": {
        "id": "GSwVb3Q475-a"
      }
    },
    {
      "cell_type": "code",
      "source": [
        "# import the libraries we will use\n",
        "import numpy as np\n",
        "import pandas as pd\n",
        "import plotly.graph_objects as go\n",
        "import plotly.express as px\n",
        "from sklearn.linear_model import LinearRegression, Ridge, Lasso\n",
        "from sklearn.linear_model import LinearRegression\n",
        "from sklearn.model_selection import train_test_split\n",
        "from sklearn.metrics import accuracy_score\n",
        "from sklearn.metrics import classification_report\n",
        "from sklearn.compose import make_column_transformer\n",
        "from sklearn.preprocessing import OrdinalEncoder, LabelEncoder\n",
        "import warnings\n",
        "warnings.filterwarnings(\"ignore\") # disable warnings when making remote calls"
      ],
      "metadata": {
        "id": "6NUwJq9GS3JJ"
      },
      "execution_count": 196,
      "outputs": []
    },
    {
      "cell_type": "code",
      "source": [
        "# load both data sets in\n",
        "original = \"https://raw.githubusercontent.com/cboyda/MachineLearning/main/AB_NYC_2019.csv\"\n",
        "df_original = pd.read_csv(original)\n",
        "additional = \"https://raw.githubusercontent.com/cboyda/MachineLearning/main/full_nyc_dataset_cleaned_table-1.csv\"\n",
        "df_additional = pd.read_csv(additional)"
      ],
      "metadata": {
        "id": "-hdMYgqyCz3s"
      },
      "execution_count": 112,
      "outputs": []
    },
    {
      "cell_type": "code",
      "source": [
        "# Merge the two datasets with an inner join, validate that no duplicate id values exist for a one to one join\n",
        "df = pd.merge(df_original, df_additional, how = \"inner\", on = \"id\", validate=\"one_to_one\", suffixes=(\"_original\",\"_additional\"))\n",
        "df.shape"
      ],
      "metadata": {
        "colab": {
          "base_uri": "https://localhost:8080/"
        },
        "id": "GI4N1jHR_CZl",
        "outputId": "fc0a855c-92e5-4f3c-fb18-f6dc1a735239"
      },
      "execution_count": 113,
      "outputs": [
        {
          "output_type": "execute_result",
          "data": {
            "text/plain": [
              "(16005, 22)"
            ]
          },
          "metadata": {},
          "execution_count": 113
        }
      ]
    },
    {
      "cell_type": "code",
      "source": [
        "df"
      ],
      "metadata": {
        "id": "Mkmo409fo5bO",
        "outputId": "2cbb0f91-42a9-4fc3-c3ca-7310b590bd4c",
        "colab": {
          "base_uri": "https://localhost:8080/",
          "height": 886
        }
      },
      "execution_count": 114,
      "outputs": [
        {
          "output_type": "execute_result",
          "data": {
            "text/plain": [
              "             id                                               name    host_id  \\\n",
              "0          2595                              Skylit Midtown Castle       2845   \n",
              "1          5121                                    BlissArtsSpace!       7356   \n",
              "2          5178                   Large Furnished Room Near B'way        8967   \n",
              "3          5203                 Cozy Clean Guest Room - Family Apt       7490   \n",
              "4          5803     Lovely Room 1, Garden, Best Area, Legal rental       9744   \n",
              "...         ...                                                ...        ...   \n",
              "16000  36457832      ❥NYC Apt: 4min/subway, 25m/city, 20m/LGA,JFK❥   63272360   \n",
              "16001  36471896    Private Bedroom & PRIVATE BATHROOM in Manhattan   23548340   \n",
              "16002  36477307                                  Brooklyn paradise  241945355   \n",
              "16003  36481615                   Peaceful space in Greenpoint, BK  274298453   \n",
              "16004  36487245  Trendy duplex in the very heart of Hell's Kitchen   68119814   \n",
              "\n",
              "            host_name neighbourhood_group       neighbourhood  latitude  \\\n",
              "0            Jennifer           Manhattan             Midtown  40.75362   \n",
              "1               Garon            Brooklyn  Bedford-Stuyvesant  40.68688   \n",
              "2            Shunichi           Manhattan      Hell's Kitchen  40.76489   \n",
              "3           MaryEllen           Manhattan     Upper West Side  40.80178   \n",
              "4              Laurie            Brooklyn         South Slope  40.66829   \n",
              "...               ...                 ...                 ...       ...   \n",
              "16000  Annie Lawrence              Queens           Woodhaven  40.69482   \n",
              "16001           Sarah           Manhattan     Upper East Side  40.77192   \n",
              "16002  Clement & Rose            Brooklyn           Flatlands  40.63116   \n",
              "16003          Adrien            Brooklyn          Greenpoint  40.72585   \n",
              "16004      Christophe           Manhattan      Hell's Kitchen  40.76404   \n",
              "\n",
              "       longitude room_type_original  price  ...  last_review  \\\n",
              "0      -73.98377    Entire home/apt    225  ...   2019-05-21   \n",
              "1      -73.95596       Private room     60  ...   2017-10-05   \n",
              "2      -73.98493       Private room     79  ...   2019-06-24   \n",
              "3      -73.96723       Private room     79  ...   2017-07-21   \n",
              "4      -73.98779       Private room     89  ...   2019-06-24   \n",
              "...          ...                ...    ...  ...          ...   \n",
              "16000  -73.86618    Entire home/apt     85  ...          NaN   \n",
              "16001  -73.95369       Private room     95  ...          NaN   \n",
              "16002  -73.92616    Entire home/apt    170  ...          NaN   \n",
              "16003  -73.94001       Private room     54  ...          NaN   \n",
              "16004  -73.98933       Private room     90  ...          NaN   \n",
              "\n",
              "       reviews_per_month calculated_host_listings_count  availability_365  \\\n",
              "0                   0.38                              2               355   \n",
              "1                   0.40                              1                 0   \n",
              "2                   3.47                              1               220   \n",
              "3                   0.99                              1                 0   \n",
              "4                   1.34                              3               314   \n",
              "...                  ...                            ...               ...   \n",
              "16000                NaN                              6               300   \n",
              "16001                NaN                              1                 2   \n",
              "16002                NaN                              2               363   \n",
              "16003                NaN                              1                15   \n",
              "16004                NaN                              1                23   \n",
              "\n",
              "                     property_type  room_type_additional accommodates  \\\n",
              "0               Entire rental unit       Entire home/apt            1   \n",
              "1      Private room in rental unit          Private room            2   \n",
              "2      Private room in rental unit          Private room            2   \n",
              "3      Private room in rental unit          Private room            1   \n",
              "4        Private room in townhouse          Private room            2   \n",
              "...                            ...                   ...          ...   \n",
              "16000                  Entire home       Entire home/apt            2   \n",
              "16001  Private room in rental unit          Private room            2   \n",
              "16002           Entire rental unit       Entire home/apt            6   \n",
              "16003  Private room in rental unit          Private room            2   \n",
              "16004  Private room in rental unit          Private room            2   \n",
              "\n",
              "       bathrooms_text  bedrooms beds  \n",
              "0              1 bath       NaN  1.0  \n",
              "1                 NaN       1.0  1.0  \n",
              "2              1 bath       1.0  1.0  \n",
              "3       1 shared bath       1.0  1.0  \n",
              "4           1.5 baths       1.0  1.0  \n",
              "...               ...       ...  ...  \n",
              "16000          1 bath       1.0  3.0  \n",
              "16001  1 private bath       1.0  1.0  \n",
              "16002          1 bath       2.0  2.0  \n",
              "16003   1 shared bath       1.0  1.0  \n",
              "16004  2 shared baths       1.0  1.0  \n",
              "\n",
              "[16005 rows x 22 columns]"
            ],
            "text/html": [
              "\n",
              "  <div id=\"df-1f195396-e629-4ad8-b6c8-d02ed83e3a9d\">\n",
              "    <div class=\"colab-df-container\">\n",
              "      <div>\n",
              "<style scoped>\n",
              "    .dataframe tbody tr th:only-of-type {\n",
              "        vertical-align: middle;\n",
              "    }\n",
              "\n",
              "    .dataframe tbody tr th {\n",
              "        vertical-align: top;\n",
              "    }\n",
              "\n",
              "    .dataframe thead th {\n",
              "        text-align: right;\n",
              "    }\n",
              "</style>\n",
              "<table border=\"1\" class=\"dataframe\">\n",
              "  <thead>\n",
              "    <tr style=\"text-align: right;\">\n",
              "      <th></th>\n",
              "      <th>id</th>\n",
              "      <th>name</th>\n",
              "      <th>host_id</th>\n",
              "      <th>host_name</th>\n",
              "      <th>neighbourhood_group</th>\n",
              "      <th>neighbourhood</th>\n",
              "      <th>latitude</th>\n",
              "      <th>longitude</th>\n",
              "      <th>room_type_original</th>\n",
              "      <th>price</th>\n",
              "      <th>...</th>\n",
              "      <th>last_review</th>\n",
              "      <th>reviews_per_month</th>\n",
              "      <th>calculated_host_listings_count</th>\n",
              "      <th>availability_365</th>\n",
              "      <th>property_type</th>\n",
              "      <th>room_type_additional</th>\n",
              "      <th>accommodates</th>\n",
              "      <th>bathrooms_text</th>\n",
              "      <th>bedrooms</th>\n",
              "      <th>beds</th>\n",
              "    </tr>\n",
              "  </thead>\n",
              "  <tbody>\n",
              "    <tr>\n",
              "      <th>0</th>\n",
              "      <td>2595</td>\n",
              "      <td>Skylit Midtown Castle</td>\n",
              "      <td>2845</td>\n",
              "      <td>Jennifer</td>\n",
              "      <td>Manhattan</td>\n",
              "      <td>Midtown</td>\n",
              "      <td>40.75362</td>\n",
              "      <td>-73.98377</td>\n",
              "      <td>Entire home/apt</td>\n",
              "      <td>225</td>\n",
              "      <td>...</td>\n",
              "      <td>2019-05-21</td>\n",
              "      <td>0.38</td>\n",
              "      <td>2</td>\n",
              "      <td>355</td>\n",
              "      <td>Entire rental unit</td>\n",
              "      <td>Entire home/apt</td>\n",
              "      <td>1</td>\n",
              "      <td>1 bath</td>\n",
              "      <td>NaN</td>\n",
              "      <td>1.0</td>\n",
              "    </tr>\n",
              "    <tr>\n",
              "      <th>1</th>\n",
              "      <td>5121</td>\n",
              "      <td>BlissArtsSpace!</td>\n",
              "      <td>7356</td>\n",
              "      <td>Garon</td>\n",
              "      <td>Brooklyn</td>\n",
              "      <td>Bedford-Stuyvesant</td>\n",
              "      <td>40.68688</td>\n",
              "      <td>-73.95596</td>\n",
              "      <td>Private room</td>\n",
              "      <td>60</td>\n",
              "      <td>...</td>\n",
              "      <td>2017-10-05</td>\n",
              "      <td>0.40</td>\n",
              "      <td>1</td>\n",
              "      <td>0</td>\n",
              "      <td>Private room in rental unit</td>\n",
              "      <td>Private room</td>\n",
              "      <td>2</td>\n",
              "      <td>NaN</td>\n",
              "      <td>1.0</td>\n",
              "      <td>1.0</td>\n",
              "    </tr>\n",
              "    <tr>\n",
              "      <th>2</th>\n",
              "      <td>5178</td>\n",
              "      <td>Large Furnished Room Near B'way</td>\n",
              "      <td>8967</td>\n",
              "      <td>Shunichi</td>\n",
              "      <td>Manhattan</td>\n",
              "      <td>Hell's Kitchen</td>\n",
              "      <td>40.76489</td>\n",
              "      <td>-73.98493</td>\n",
              "      <td>Private room</td>\n",
              "      <td>79</td>\n",
              "      <td>...</td>\n",
              "      <td>2019-06-24</td>\n",
              "      <td>3.47</td>\n",
              "      <td>1</td>\n",
              "      <td>220</td>\n",
              "      <td>Private room in rental unit</td>\n",
              "      <td>Private room</td>\n",
              "      <td>2</td>\n",
              "      <td>1 bath</td>\n",
              "      <td>1.0</td>\n",
              "      <td>1.0</td>\n",
              "    </tr>\n",
              "    <tr>\n",
              "      <th>3</th>\n",
              "      <td>5203</td>\n",
              "      <td>Cozy Clean Guest Room - Family Apt</td>\n",
              "      <td>7490</td>\n",
              "      <td>MaryEllen</td>\n",
              "      <td>Manhattan</td>\n",
              "      <td>Upper West Side</td>\n",
              "      <td>40.80178</td>\n",
              "      <td>-73.96723</td>\n",
              "      <td>Private room</td>\n",
              "      <td>79</td>\n",
              "      <td>...</td>\n",
              "      <td>2017-07-21</td>\n",
              "      <td>0.99</td>\n",
              "      <td>1</td>\n",
              "      <td>0</td>\n",
              "      <td>Private room in rental unit</td>\n",
              "      <td>Private room</td>\n",
              "      <td>1</td>\n",
              "      <td>1 shared bath</td>\n",
              "      <td>1.0</td>\n",
              "      <td>1.0</td>\n",
              "    </tr>\n",
              "    <tr>\n",
              "      <th>4</th>\n",
              "      <td>5803</td>\n",
              "      <td>Lovely Room 1, Garden, Best Area, Legal rental</td>\n",
              "      <td>9744</td>\n",
              "      <td>Laurie</td>\n",
              "      <td>Brooklyn</td>\n",
              "      <td>South Slope</td>\n",
              "      <td>40.66829</td>\n",
              "      <td>-73.98779</td>\n",
              "      <td>Private room</td>\n",
              "      <td>89</td>\n",
              "      <td>...</td>\n",
              "      <td>2019-06-24</td>\n",
              "      <td>1.34</td>\n",
              "      <td>3</td>\n",
              "      <td>314</td>\n",
              "      <td>Private room in townhouse</td>\n",
              "      <td>Private room</td>\n",
              "      <td>2</td>\n",
              "      <td>1.5 baths</td>\n",
              "      <td>1.0</td>\n",
              "      <td>1.0</td>\n",
              "    </tr>\n",
              "    <tr>\n",
              "      <th>...</th>\n",
              "      <td>...</td>\n",
              "      <td>...</td>\n",
              "      <td>...</td>\n",
              "      <td>...</td>\n",
              "      <td>...</td>\n",
              "      <td>...</td>\n",
              "      <td>...</td>\n",
              "      <td>...</td>\n",
              "      <td>...</td>\n",
              "      <td>...</td>\n",
              "      <td>...</td>\n",
              "      <td>...</td>\n",
              "      <td>...</td>\n",
              "      <td>...</td>\n",
              "      <td>...</td>\n",
              "      <td>...</td>\n",
              "      <td>...</td>\n",
              "      <td>...</td>\n",
              "      <td>...</td>\n",
              "      <td>...</td>\n",
              "      <td>...</td>\n",
              "    </tr>\n",
              "    <tr>\n",
              "      <th>16000</th>\n",
              "      <td>36457832</td>\n",
              "      <td>❥NYC Apt: 4min/subway, 25m/city, 20m/LGA,JFK❥</td>\n",
              "      <td>63272360</td>\n",
              "      <td>Annie Lawrence</td>\n",
              "      <td>Queens</td>\n",
              "      <td>Woodhaven</td>\n",
              "      <td>40.69482</td>\n",
              "      <td>-73.86618</td>\n",
              "      <td>Entire home/apt</td>\n",
              "      <td>85</td>\n",
              "      <td>...</td>\n",
              "      <td>NaN</td>\n",
              "      <td>NaN</td>\n",
              "      <td>6</td>\n",
              "      <td>300</td>\n",
              "      <td>Entire home</td>\n",
              "      <td>Entire home/apt</td>\n",
              "      <td>2</td>\n",
              "      <td>1 bath</td>\n",
              "      <td>1.0</td>\n",
              "      <td>3.0</td>\n",
              "    </tr>\n",
              "    <tr>\n",
              "      <th>16001</th>\n",
              "      <td>36471896</td>\n",
              "      <td>Private Bedroom &amp; PRIVATE BATHROOM in Manhattan</td>\n",
              "      <td>23548340</td>\n",
              "      <td>Sarah</td>\n",
              "      <td>Manhattan</td>\n",
              "      <td>Upper East Side</td>\n",
              "      <td>40.77192</td>\n",
              "      <td>-73.95369</td>\n",
              "      <td>Private room</td>\n",
              "      <td>95</td>\n",
              "      <td>...</td>\n",
              "      <td>NaN</td>\n",
              "      <td>NaN</td>\n",
              "      <td>1</td>\n",
              "      <td>2</td>\n",
              "      <td>Private room in rental unit</td>\n",
              "      <td>Private room</td>\n",
              "      <td>2</td>\n",
              "      <td>1 private bath</td>\n",
              "      <td>1.0</td>\n",
              "      <td>1.0</td>\n",
              "    </tr>\n",
              "    <tr>\n",
              "      <th>16002</th>\n",
              "      <td>36477307</td>\n",
              "      <td>Brooklyn paradise</td>\n",
              "      <td>241945355</td>\n",
              "      <td>Clement &amp; Rose</td>\n",
              "      <td>Brooklyn</td>\n",
              "      <td>Flatlands</td>\n",
              "      <td>40.63116</td>\n",
              "      <td>-73.92616</td>\n",
              "      <td>Entire home/apt</td>\n",
              "      <td>170</td>\n",
              "      <td>...</td>\n",
              "      <td>NaN</td>\n",
              "      <td>NaN</td>\n",
              "      <td>2</td>\n",
              "      <td>363</td>\n",
              "      <td>Entire rental unit</td>\n",
              "      <td>Entire home/apt</td>\n",
              "      <td>6</td>\n",
              "      <td>1 bath</td>\n",
              "      <td>2.0</td>\n",
              "      <td>2.0</td>\n",
              "    </tr>\n",
              "    <tr>\n",
              "      <th>16003</th>\n",
              "      <td>36481615</td>\n",
              "      <td>Peaceful space in Greenpoint, BK</td>\n",
              "      <td>274298453</td>\n",
              "      <td>Adrien</td>\n",
              "      <td>Brooklyn</td>\n",
              "      <td>Greenpoint</td>\n",
              "      <td>40.72585</td>\n",
              "      <td>-73.94001</td>\n",
              "      <td>Private room</td>\n",
              "      <td>54</td>\n",
              "      <td>...</td>\n",
              "      <td>NaN</td>\n",
              "      <td>NaN</td>\n",
              "      <td>1</td>\n",
              "      <td>15</td>\n",
              "      <td>Private room in rental unit</td>\n",
              "      <td>Private room</td>\n",
              "      <td>2</td>\n",
              "      <td>1 shared bath</td>\n",
              "      <td>1.0</td>\n",
              "      <td>1.0</td>\n",
              "    </tr>\n",
              "    <tr>\n",
              "      <th>16004</th>\n",
              "      <td>36487245</td>\n",
              "      <td>Trendy duplex in the very heart of Hell's Kitchen</td>\n",
              "      <td>68119814</td>\n",
              "      <td>Christophe</td>\n",
              "      <td>Manhattan</td>\n",
              "      <td>Hell's Kitchen</td>\n",
              "      <td>40.76404</td>\n",
              "      <td>-73.98933</td>\n",
              "      <td>Private room</td>\n",
              "      <td>90</td>\n",
              "      <td>...</td>\n",
              "      <td>NaN</td>\n",
              "      <td>NaN</td>\n",
              "      <td>1</td>\n",
              "      <td>23</td>\n",
              "      <td>Private room in rental unit</td>\n",
              "      <td>Private room</td>\n",
              "      <td>2</td>\n",
              "      <td>2 shared baths</td>\n",
              "      <td>1.0</td>\n",
              "      <td>1.0</td>\n",
              "    </tr>\n",
              "  </tbody>\n",
              "</table>\n",
              "<p>16005 rows × 22 columns</p>\n",
              "</div>\n",
              "      <button class=\"colab-df-convert\" onclick=\"convertToInteractive('df-1f195396-e629-4ad8-b6c8-d02ed83e3a9d')\"\n",
              "              title=\"Convert this dataframe to an interactive table.\"\n",
              "              style=\"display:none;\">\n",
              "        \n",
              "  <svg xmlns=\"http://www.w3.org/2000/svg\" height=\"24px\"viewBox=\"0 0 24 24\"\n",
              "       width=\"24px\">\n",
              "    <path d=\"M0 0h24v24H0V0z\" fill=\"none\"/>\n",
              "    <path d=\"M18.56 5.44l.94 2.06.94-2.06 2.06-.94-2.06-.94-.94-2.06-.94 2.06-2.06.94zm-11 1L8.5 8.5l.94-2.06 2.06-.94-2.06-.94L8.5 2.5l-.94 2.06-2.06.94zm10 10l.94 2.06.94-2.06 2.06-.94-2.06-.94-.94-2.06-.94 2.06-2.06.94z\"/><path d=\"M17.41 7.96l-1.37-1.37c-.4-.4-.92-.59-1.43-.59-.52 0-1.04.2-1.43.59L10.3 9.45l-7.72 7.72c-.78.78-.78 2.05 0 2.83L4 21.41c.39.39.9.59 1.41.59.51 0 1.02-.2 1.41-.59l7.78-7.78 2.81-2.81c.8-.78.8-2.07 0-2.86zM5.41 20L4 18.59l7.72-7.72 1.47 1.35L5.41 20z\"/>\n",
              "  </svg>\n",
              "      </button>\n",
              "      \n",
              "  <style>\n",
              "    .colab-df-container {\n",
              "      display:flex;\n",
              "      flex-wrap:wrap;\n",
              "      gap: 12px;\n",
              "    }\n",
              "\n",
              "    .colab-df-convert {\n",
              "      background-color: #E8F0FE;\n",
              "      border: none;\n",
              "      border-radius: 50%;\n",
              "      cursor: pointer;\n",
              "      display: none;\n",
              "      fill: #1967D2;\n",
              "      height: 32px;\n",
              "      padding: 0 0 0 0;\n",
              "      width: 32px;\n",
              "    }\n",
              "\n",
              "    .colab-df-convert:hover {\n",
              "      background-color: #E2EBFA;\n",
              "      box-shadow: 0px 1px 2px rgba(60, 64, 67, 0.3), 0px 1px 3px 1px rgba(60, 64, 67, 0.15);\n",
              "      fill: #174EA6;\n",
              "    }\n",
              "\n",
              "    [theme=dark] .colab-df-convert {\n",
              "      background-color: #3B4455;\n",
              "      fill: #D2E3FC;\n",
              "    }\n",
              "\n",
              "    [theme=dark] .colab-df-convert:hover {\n",
              "      background-color: #434B5C;\n",
              "      box-shadow: 0px 1px 3px 1px rgba(0, 0, 0, 0.15);\n",
              "      filter: drop-shadow(0px 1px 2px rgba(0, 0, 0, 0.3));\n",
              "      fill: #FFFFFF;\n",
              "    }\n",
              "  </style>\n",
              "\n",
              "      <script>\n",
              "        const buttonEl =\n",
              "          document.querySelector('#df-1f195396-e629-4ad8-b6c8-d02ed83e3a9d button.colab-df-convert');\n",
              "        buttonEl.style.display =\n",
              "          google.colab.kernel.accessAllowed ? 'block' : 'none';\n",
              "\n",
              "        async function convertToInteractive(key) {\n",
              "          const element = document.querySelector('#df-1f195396-e629-4ad8-b6c8-d02ed83e3a9d');\n",
              "          const dataTable =\n",
              "            await google.colab.kernel.invokeFunction('convertToInteractive',\n",
              "                                                     [key], {});\n",
              "          if (!dataTable) return;\n",
              "\n",
              "          const docLinkHtml = 'Like what you see? Visit the ' +\n",
              "            '<a target=\"_blank\" href=https://colab.research.google.com/notebooks/data_table.ipynb>data table notebook</a>'\n",
              "            + ' to learn more about interactive tables.';\n",
              "          element.innerHTML = '';\n",
              "          dataTable['output_type'] = 'display_data';\n",
              "          await google.colab.output.renderOutput(dataTable, element);\n",
              "          const docLink = document.createElement('div');\n",
              "          docLink.innerHTML = docLinkHtml;\n",
              "          element.appendChild(docLink);\n",
              "        }\n",
              "      </script>\n",
              "    </div>\n",
              "  </div>\n",
              "  "
            ]
          },
          "metadata": {},
          "execution_count": 114
        }
      ]
    },
    {
      "cell_type": "markdown",
      "source": [
        "#Data Cleaning"
      ],
      "metadata": {
        "id": "ynvupFz4r5br"
      }
    },
    {
      "cell_type": "markdown",
      "source": [
        "## Data Preprocessing\n",
        "1. Dropping examples to distill data into higher quality\n",
        "2. Adding and dropping of features required for linear regression"
      ],
      "metadata": {
        "id": "hIcbNpaBTDO2"
      }
    },
    {
      "cell_type": "markdown",
      "source": [
        "### 1. Dropping examples"
      ],
      "metadata": {
        "id": "5F_DyZemTpPi"
      }
    },
    {
      "cell_type": "code",
      "source": [
        "# check value counts for property_type\n",
        "df['property_type'].value_counts()"
      ],
      "metadata": {
        "colab": {
          "base_uri": "https://localhost:8080/"
        },
        "id": "8-Fc83ILr-Ow",
        "outputId": "4e7f2d05-4b9c-4691-8c09-29c6009ff08d"
      },
      "execution_count": 115,
      "outputs": [
        {
          "output_type": "execute_result",
          "data": {
            "text/plain": [
              "Entire rental unit                    6975\n",
              "Private room in rental unit           5153\n",
              "Private room in home                   844\n",
              "Entire home                            513\n",
              "Entire condo                           418\n",
              "Private room in townhouse              352\n",
              "Entire loft                            326\n",
              "Entire townhouse                       297\n",
              "Private room in condo                  180\n",
              "Shared room in rental unit             178\n",
              "Private room in loft                   149\n",
              "Entire guest suite                     133\n",
              "Entire serviced apartment               98\n",
              "Room in boutique hotel                  68\n",
              "Room in hotel                           56\n",
              "Private room in guest suite             37\n",
              "Entire place                            33\n",
              "Room in serviced apartment              24\n",
              "Shared room in loft                     19\n",
              "Entire guesthouse                       19\n",
              "Private room                            18\n",
              "Private room in resort                  17\n",
              "Private room in bed and breakfast       14\n",
              "Shared room in home                     11\n",
              "Shared room in condo                     7\n",
              "Entire bungalow                          7\n",
              "Tiny home                                6\n",
              "Private room in guesthouse               6\n",
              "Floor                                    6\n",
              "Private room in hostel                   4\n",
              "Room in bed and breakfast                4\n",
              "Entire cottage                           4\n",
              "Private room in bungalow                 3\n",
              "Entire home/apt                          3\n",
              "Private room in villa                    3\n",
              "Private room in houseboat                2\n",
              "Shared room in townhouse                 2\n",
              "Entire villa                             2\n",
              "Private room in serviced apartment       2\n",
              "Houseboat                                2\n",
              "Shared room in floor                     1\n",
              "Cave                                     1\n",
              "Boat                                     1\n",
              "Private room in tent                     1\n",
              "Shared room in guest suite               1\n",
              "Room in resort                           1\n",
              "Room in aparthotel                       1\n",
              "Shared room in guesthouse                1\n",
              "Private room in farm stay                1\n",
              "Private room in floor                    1\n",
              "Name: property_type, dtype: int64"
            ]
          },
          "metadata": {},
          "execution_count": 115
        }
      ]
    },
    {
      "cell_type": "markdown",
      "source": [
        "There are property types that we do not want to consider in our analysis (Boats, Caves and Villa's) so we will remove these examples."
      ],
      "metadata": {
        "id": "Fn624nmBs3GM"
      }
    },
    {
      "cell_type": "code",
      "source": [
        "# Check shape before dropping examples\n",
        "df.shape"
      ],
      "metadata": {
        "colab": {
          "base_uri": "https://localhost:8080/"
        },
        "id": "47cVbIsyt_uH",
        "outputId": "13ca21fc-8408-4bb4-99f1-8e9d000382b3"
      },
      "execution_count": 116,
      "outputs": [
        {
          "output_type": "execute_result",
          "data": {
            "text/plain": [
              "(16005, 22)"
            ]
          },
          "metadata": {},
          "execution_count": 116
        }
      ]
    },
    {
      "cell_type": "code",
      "source": [
        "# drop property types which are outliers\n",
        "df = df.drop(df[(df['property_type'] == 'Cave') | (df['property_type'] == 'Boat') | \n",
        "                (df['property_type'] == 'Floor') | (df['property_type'] == 'Private room in farm stay') |\n",
        "                (df['property_type'] == 'Entire villa') | (df['property_type'] == 'Private room in houseboat') |\n",
        "                (df['property_type'] == 'Private room in villa') | (df['property_type'] == 'Private room in tent') |\n",
        "                (df['property_type'] == 'Houseboat')].index)"
      ],
      "metadata": {
        "id": "DvCL62EAtAJF"
      },
      "execution_count": 117,
      "outputs": []
    },
    {
      "cell_type": "code",
      "source": [
        "# distill all similar property types into main type\n",
        "df['property_type'] = df.property_type.str.replace(r'(^.*Private room.*$)', 'Private Room')\n",
        "df['property_type'] = df.property_type.str.replace(r'(^.*Entire.*$)', 'Entire Unit')\n",
        "df['property_type'] = df.property_type.str.replace(r'(^.*Shared room.*$)', 'Shared Room')\n",
        "df['property_type'] = df.property_type.str.replace(r'(^.*Room in.*$)', 'Room In')"
      ],
      "metadata": {
        "id": "OMwRo72nZi9o"
      },
      "execution_count": 118,
      "outputs": []
    },
    {
      "cell_type": "code",
      "source": [
        "# Check shape after dropping examples\n",
        "df.shape"
      ],
      "metadata": {
        "colab": {
          "base_uri": "https://localhost:8080/"
        },
        "id": "k-EUpr5ruNjZ",
        "outputId": "99fb0a90-1450-4d29-8a33-50c50fe21c6f"
      },
      "execution_count": 119,
      "outputs": [
        {
          "output_type": "execute_result",
          "data": {
            "text/plain": [
              "(15986, 22)"
            ]
          },
          "metadata": {},
          "execution_count": 119
        }
      ]
    },
    {
      "cell_type": "code",
      "source": [
        "# assess new value counts for property_type\n",
        "df['property_type'].value_counts()"
      ],
      "metadata": {
        "colab": {
          "base_uri": "https://localhost:8080/"
        },
        "id": "X_L9sKlrxqnM",
        "outputId": "8b11deba-ace6-4d0a-b156-6899998a0f7d"
      },
      "execution_count": 120,
      "outputs": [
        {
          "output_type": "execute_result",
          "data": {
            "text/plain": [
              "Entire Unit     8826\n",
              "Private Room    6780\n",
              "Shared Room      220\n",
              "Room In          154\n",
              "Tiny home          6\n",
              "Name: property_type, dtype: int64"
            ]
          },
          "metadata": {},
          "execution_count": 120
        }
      ]
    },
    {
      "cell_type": "code",
      "source": [
        "# drop suffix from room_type_original\n",
        "df = df.rename(columns = {'room_type_original' : 'room_type'})"
      ],
      "metadata": {
        "id": "oUorW3VyoecL"
      },
      "execution_count": 121,
      "outputs": []
    },
    {
      "cell_type": "code",
      "source": [
        "# extract the numerical values from the bathroom_text column \n",
        "df['bathrooms_text'].mask(df['bathrooms_text'] == 'Half-bath', 0.5, inplace=True)\n",
        "df['bathrooms_text'].mask(df['bathrooms_text'] == 'Shared half-bath', 0.5, inplace=True)\n",
        "df['bathrooms_text'].mask(df['bathrooms_text'] == 'Private half-bath', 0.5, inplace=True)\n",
        "df['bathrooms'] = df['bathrooms_text'].str.extract(r'\\b([\\d.]+)\\b')"
      ],
      "metadata": {
        "id": "Kj-T7RIlMfNk"
      },
      "execution_count": 122,
      "outputs": []
    },
    {
      "cell_type": "code",
      "source": [
        "# Convert bathroom to float type\n",
        "df['bathrooms'] = df['bathrooms'].astype(float)"
      ],
      "metadata": {
        "id": "GMnxWyzbMqBj"
      },
      "execution_count": 123,
      "outputs": []
    },
    {
      "cell_type": "code",
      "source": [
        "# check for null values\n",
        "df.isnull().sum()"
      ],
      "metadata": {
        "id": "RCtxqNs3zTaz",
        "outputId": "7b083184-6004-48e3-fb9c-97fc71621c73",
        "colab": {
          "base_uri": "https://localhost:8080/"
        }
      },
      "execution_count": 124,
      "outputs": [
        {
          "output_type": "execute_result",
          "data": {
            "text/plain": [
              "id                                   0\n",
              "name                                11\n",
              "host_id                              0\n",
              "host_name                           10\n",
              "neighbourhood_group                  0\n",
              "neighbourhood                        0\n",
              "latitude                             0\n",
              "longitude                            0\n",
              "room_type                            0\n",
              "price                                0\n",
              "minimum_nights                       0\n",
              "number_of_reviews                    0\n",
              "last_review                       3010\n",
              "reviews_per_month                 3010\n",
              "calculated_host_listings_count       0\n",
              "availability_365                     0\n",
              "property_type                        0\n",
              "room_type_additional                 0\n",
              "accommodates                         0\n",
              "bathrooms_text                      22\n",
              "bedrooms                          1562\n",
              "beds                               109\n",
              "bathrooms                           52\n",
              "dtype: int64"
            ]
          },
          "metadata": {},
          "execution_count": 124
        }
      ]
    },
    {
      "cell_type": "code",
      "source": [
        "# For bedrooms and bathrooms with null values, fill with zero as properties can have no bedrooms or bathrooms\n",
        "df[['bedrooms', 'bathrooms']] = df[['bedrooms', 'bathrooms']].fillna(value=0)"
      ],
      "metadata": {
        "id": "abkjBqSl0gGg"
      },
      "execution_count": 125,
      "outputs": []
    },
    {
      "cell_type": "code",
      "source": [
        "# Check null values again to confirm\n",
        "df.isnull().sum()"
      ],
      "metadata": {
        "id": "bsphI-j00wb-",
        "outputId": "af71791a-5765-417f-cbc3-1e041b05d1a8",
        "colab": {
          "base_uri": "https://localhost:8080/"
        }
      },
      "execution_count": 126,
      "outputs": [
        {
          "output_type": "execute_result",
          "data": {
            "text/plain": [
              "id                                   0\n",
              "name                                11\n",
              "host_id                              0\n",
              "host_name                           10\n",
              "neighbourhood_group                  0\n",
              "neighbourhood                        0\n",
              "latitude                             0\n",
              "longitude                            0\n",
              "room_type                            0\n",
              "price                                0\n",
              "minimum_nights                       0\n",
              "number_of_reviews                    0\n",
              "last_review                       3010\n",
              "reviews_per_month                 3010\n",
              "calculated_host_listings_count       0\n",
              "availability_365                     0\n",
              "property_type                        0\n",
              "room_type_additional                 0\n",
              "accommodates                         0\n",
              "bathrooms_text                      22\n",
              "bedrooms                             0\n",
              "beds                               109\n",
              "bathrooms                            0\n",
              "dtype: int64"
            ]
          },
          "metadata": {},
          "execution_count": 126
        }
      ]
    },
    {
      "cell_type": "markdown",
      "source": [
        "All other columns with null values are not important for this analysis as these columns will be dropped."
      ],
      "metadata": {
        "id": "n4PGSYEG02Fx"
      }
    },
    {
      "cell_type": "code",
      "source": [
        "# Drop bathroom_text, beds, and duplicated room_type features\n",
        "df.drop(['bathrooms_text', 'room_type_additional', 'beds'], axis = 1, inplace = True)"
      ],
      "metadata": {
        "id": "2mh4xGc-MtKq"
      },
      "execution_count": 127,
      "outputs": []
    },
    {
      "cell_type": "code",
      "source": [
        "df.shape"
      ],
      "metadata": {
        "colab": {
          "base_uri": "https://localhost:8080/"
        },
        "id": "AO-Yn5GeOwro",
        "outputId": "44c33833-ffe6-474d-80e9-09039c588534"
      },
      "execution_count": 128,
      "outputs": [
        {
          "output_type": "execute_result",
          "data": {
            "text/plain": [
              "(15986, 20)"
            ]
          },
          "metadata": {},
          "execution_count": 128
        }
      ]
    },
    {
      "cell_type": "code",
      "source": [
        "df.columns"
      ],
      "metadata": {
        "colab": {
          "base_uri": "https://localhost:8080/"
        },
        "id": "6J0j37AjHOrr",
        "outputId": "884d62f1-e94b-442c-fe5c-d02298d40222"
      },
      "execution_count": 129,
      "outputs": [
        {
          "output_type": "execute_result",
          "data": {
            "text/plain": [
              "Index(['id', 'name', 'host_id', 'host_name', 'neighbourhood_group',\n",
              "       'neighbourhood', 'latitude', 'longitude', 'room_type', 'price',\n",
              "       'minimum_nights', 'number_of_reviews', 'last_review',\n",
              "       'reviews_per_month', 'calculated_host_listings_count',\n",
              "       'availability_365', 'property_type', 'accommodates', 'bedrooms',\n",
              "       'bathrooms'],\n",
              "      dtype='object')"
            ]
          },
          "metadata": {},
          "execution_count": 129
        }
      ]
    },
    {
      "cell_type": "markdown",
      "source": [
        "### 2. Feature Adding / Dropping"
      ],
      "metadata": {
        "id": "EoGiX6Hc2H6S"
      }
    },
    {
      "cell_type": "code",
      "source": [
        "# set price as the label\n",
        "label = df['price']\n",
        "# create new dataframe for linear regression \n",
        "df_regression = df.copy()\n",
        "df_regression"
      ],
      "metadata": {
        "id": "JIE4wR7RMA8q",
        "colab": {
          "base_uri": "https://localhost:8080/",
          "height": 661
        },
        "outputId": "b067f78c-9cfb-4c3f-cdf4-4e272edea9f5"
      },
      "execution_count": 160,
      "outputs": [
        {
          "output_type": "execute_result",
          "data": {
            "text/plain": [
              "      neighbourhood_group        room_type  price  minimum_nights  \\\n",
              "0               Manhattan  Entire home/apt    225               1   \n",
              "2               Manhattan     Private room     79               2   \n",
              "4                Brooklyn     Private room     89               4   \n",
              "5                Brooklyn  Entire home/apt    140               2   \n",
              "6                Brooklyn  Entire home/apt    215               2   \n",
              "...                   ...              ...    ...             ...   \n",
              "16000              Queens  Entire home/apt     85               3   \n",
              "16001           Manhattan     Private room     95               1   \n",
              "16002            Brooklyn  Entire home/apt    170               1   \n",
              "16003            Brooklyn     Private room     54               6   \n",
              "16004           Manhattan     Private room     90               7   \n",
              "\n",
              "       availability_365 property_type  accommodates  bedrooms  bathrooms  \\\n",
              "0                   355   Entire Unit             1       0.0        1.0   \n",
              "2                   220  Private Room             2       1.0        1.0   \n",
              "4                   314  Private Room             2       1.0        1.5   \n",
              "5                    46   Entire Unit             3       0.0        1.0   \n",
              "6                   321   Entire Unit             4       1.0        1.0   \n",
              "...                 ...           ...           ...       ...        ...   \n",
              "16000               300   Entire Unit             2       1.0        1.0   \n",
              "16001                 2  Private Room             2       1.0        1.0   \n",
              "16002               363   Entire Unit             6       2.0        1.0   \n",
              "16003                15  Private Room             2       1.0        1.0   \n",
              "16004                23  Private Room             2       1.0        2.0   \n",
              "\n",
              "       log_price  \n",
              "0       5.416100  \n",
              "2       4.369448  \n",
              "4       4.488636  \n",
              "5       4.941642  \n",
              "6       5.370638  \n",
              "...          ...  \n",
              "16000   4.442651  \n",
              "16001   4.553877  \n",
              "16002   5.135798  \n",
              "16003   3.988984  \n",
              "16004   4.499810  \n",
              "\n",
              "[8624 rows x 10 columns]"
            ],
            "text/html": [
              "\n",
              "  <div id=\"df-0f60c483-d447-4446-8178-c83754f22889\">\n",
              "    <div class=\"colab-df-container\">\n",
              "      <div>\n",
              "<style scoped>\n",
              "    .dataframe tbody tr th:only-of-type {\n",
              "        vertical-align: middle;\n",
              "    }\n",
              "\n",
              "    .dataframe tbody tr th {\n",
              "        vertical-align: top;\n",
              "    }\n",
              "\n",
              "    .dataframe thead th {\n",
              "        text-align: right;\n",
              "    }\n",
              "</style>\n",
              "<table border=\"1\" class=\"dataframe\">\n",
              "  <thead>\n",
              "    <tr style=\"text-align: right;\">\n",
              "      <th></th>\n",
              "      <th>neighbourhood_group</th>\n",
              "      <th>room_type</th>\n",
              "      <th>price</th>\n",
              "      <th>minimum_nights</th>\n",
              "      <th>availability_365</th>\n",
              "      <th>property_type</th>\n",
              "      <th>accommodates</th>\n",
              "      <th>bedrooms</th>\n",
              "      <th>bathrooms</th>\n",
              "      <th>log_price</th>\n",
              "    </tr>\n",
              "  </thead>\n",
              "  <tbody>\n",
              "    <tr>\n",
              "      <th>0</th>\n",
              "      <td>Manhattan</td>\n",
              "      <td>Entire home/apt</td>\n",
              "      <td>225</td>\n",
              "      <td>1</td>\n",
              "      <td>355</td>\n",
              "      <td>Entire Unit</td>\n",
              "      <td>1</td>\n",
              "      <td>0.0</td>\n",
              "      <td>1.0</td>\n",
              "      <td>5.416100</td>\n",
              "    </tr>\n",
              "    <tr>\n",
              "      <th>2</th>\n",
              "      <td>Manhattan</td>\n",
              "      <td>Private room</td>\n",
              "      <td>79</td>\n",
              "      <td>2</td>\n",
              "      <td>220</td>\n",
              "      <td>Private Room</td>\n",
              "      <td>2</td>\n",
              "      <td>1.0</td>\n",
              "      <td>1.0</td>\n",
              "      <td>4.369448</td>\n",
              "    </tr>\n",
              "    <tr>\n",
              "      <th>4</th>\n",
              "      <td>Brooklyn</td>\n",
              "      <td>Private room</td>\n",
              "      <td>89</td>\n",
              "      <td>4</td>\n",
              "      <td>314</td>\n",
              "      <td>Private Room</td>\n",
              "      <td>2</td>\n",
              "      <td>1.0</td>\n",
              "      <td>1.5</td>\n",
              "      <td>4.488636</td>\n",
              "    </tr>\n",
              "    <tr>\n",
              "      <th>5</th>\n",
              "      <td>Brooklyn</td>\n",
              "      <td>Entire home/apt</td>\n",
              "      <td>140</td>\n",
              "      <td>2</td>\n",
              "      <td>46</td>\n",
              "      <td>Entire Unit</td>\n",
              "      <td>3</td>\n",
              "      <td>0.0</td>\n",
              "      <td>1.0</td>\n",
              "      <td>4.941642</td>\n",
              "    </tr>\n",
              "    <tr>\n",
              "      <th>6</th>\n",
              "      <td>Brooklyn</td>\n",
              "      <td>Entire home/apt</td>\n",
              "      <td>215</td>\n",
              "      <td>2</td>\n",
              "      <td>321</td>\n",
              "      <td>Entire Unit</td>\n",
              "      <td>4</td>\n",
              "      <td>1.0</td>\n",
              "      <td>1.0</td>\n",
              "      <td>5.370638</td>\n",
              "    </tr>\n",
              "    <tr>\n",
              "      <th>...</th>\n",
              "      <td>...</td>\n",
              "      <td>...</td>\n",
              "      <td>...</td>\n",
              "      <td>...</td>\n",
              "      <td>...</td>\n",
              "      <td>...</td>\n",
              "      <td>...</td>\n",
              "      <td>...</td>\n",
              "      <td>...</td>\n",
              "      <td>...</td>\n",
              "    </tr>\n",
              "    <tr>\n",
              "      <th>16000</th>\n",
              "      <td>Queens</td>\n",
              "      <td>Entire home/apt</td>\n",
              "      <td>85</td>\n",
              "      <td>3</td>\n",
              "      <td>300</td>\n",
              "      <td>Entire Unit</td>\n",
              "      <td>2</td>\n",
              "      <td>1.0</td>\n",
              "      <td>1.0</td>\n",
              "      <td>4.442651</td>\n",
              "    </tr>\n",
              "    <tr>\n",
              "      <th>16001</th>\n",
              "      <td>Manhattan</td>\n",
              "      <td>Private room</td>\n",
              "      <td>95</td>\n",
              "      <td>1</td>\n",
              "      <td>2</td>\n",
              "      <td>Private Room</td>\n",
              "      <td>2</td>\n",
              "      <td>1.0</td>\n",
              "      <td>1.0</td>\n",
              "      <td>4.553877</td>\n",
              "    </tr>\n",
              "    <tr>\n",
              "      <th>16002</th>\n",
              "      <td>Brooklyn</td>\n",
              "      <td>Entire home/apt</td>\n",
              "      <td>170</td>\n",
              "      <td>1</td>\n",
              "      <td>363</td>\n",
              "      <td>Entire Unit</td>\n",
              "      <td>6</td>\n",
              "      <td>2.0</td>\n",
              "      <td>1.0</td>\n",
              "      <td>5.135798</td>\n",
              "    </tr>\n",
              "    <tr>\n",
              "      <th>16003</th>\n",
              "      <td>Brooklyn</td>\n",
              "      <td>Private room</td>\n",
              "      <td>54</td>\n",
              "      <td>6</td>\n",
              "      <td>15</td>\n",
              "      <td>Private Room</td>\n",
              "      <td>2</td>\n",
              "      <td>1.0</td>\n",
              "      <td>1.0</td>\n",
              "      <td>3.988984</td>\n",
              "    </tr>\n",
              "    <tr>\n",
              "      <th>16004</th>\n",
              "      <td>Manhattan</td>\n",
              "      <td>Private room</td>\n",
              "      <td>90</td>\n",
              "      <td>7</td>\n",
              "      <td>23</td>\n",
              "      <td>Private Room</td>\n",
              "      <td>2</td>\n",
              "      <td>1.0</td>\n",
              "      <td>2.0</td>\n",
              "      <td>4.499810</td>\n",
              "    </tr>\n",
              "  </tbody>\n",
              "</table>\n",
              "<p>8624 rows × 10 columns</p>\n",
              "</div>\n",
              "      <button class=\"colab-df-convert\" onclick=\"convertToInteractive('df-0f60c483-d447-4446-8178-c83754f22889')\"\n",
              "              title=\"Convert this dataframe to an interactive table.\"\n",
              "              style=\"display:none;\">\n",
              "        \n",
              "  <svg xmlns=\"http://www.w3.org/2000/svg\" height=\"24px\"viewBox=\"0 0 24 24\"\n",
              "       width=\"24px\">\n",
              "    <path d=\"M0 0h24v24H0V0z\" fill=\"none\"/>\n",
              "    <path d=\"M18.56 5.44l.94 2.06.94-2.06 2.06-.94-2.06-.94-.94-2.06-.94 2.06-2.06.94zm-11 1L8.5 8.5l.94-2.06 2.06-.94-2.06-.94L8.5 2.5l-.94 2.06-2.06.94zm10 10l.94 2.06.94-2.06 2.06-.94-2.06-.94-.94-2.06-.94 2.06-2.06.94z\"/><path d=\"M17.41 7.96l-1.37-1.37c-.4-.4-.92-.59-1.43-.59-.52 0-1.04.2-1.43.59L10.3 9.45l-7.72 7.72c-.78.78-.78 2.05 0 2.83L4 21.41c.39.39.9.59 1.41.59.51 0 1.02-.2 1.41-.59l7.78-7.78 2.81-2.81c.8-.78.8-2.07 0-2.86zM5.41 20L4 18.59l7.72-7.72 1.47 1.35L5.41 20z\"/>\n",
              "  </svg>\n",
              "      </button>\n",
              "      \n",
              "  <style>\n",
              "    .colab-df-container {\n",
              "      display:flex;\n",
              "      flex-wrap:wrap;\n",
              "      gap: 12px;\n",
              "    }\n",
              "\n",
              "    .colab-df-convert {\n",
              "      background-color: #E8F0FE;\n",
              "      border: none;\n",
              "      border-radius: 50%;\n",
              "      cursor: pointer;\n",
              "      display: none;\n",
              "      fill: #1967D2;\n",
              "      height: 32px;\n",
              "      padding: 0 0 0 0;\n",
              "      width: 32px;\n",
              "    }\n",
              "\n",
              "    .colab-df-convert:hover {\n",
              "      background-color: #E2EBFA;\n",
              "      box-shadow: 0px 1px 2px rgba(60, 64, 67, 0.3), 0px 1px 3px 1px rgba(60, 64, 67, 0.15);\n",
              "      fill: #174EA6;\n",
              "    }\n",
              "\n",
              "    [theme=dark] .colab-df-convert {\n",
              "      background-color: #3B4455;\n",
              "      fill: #D2E3FC;\n",
              "    }\n",
              "\n",
              "    [theme=dark] .colab-df-convert:hover {\n",
              "      background-color: #434B5C;\n",
              "      box-shadow: 0px 1px 3px 1px rgba(0, 0, 0, 0.15);\n",
              "      filter: drop-shadow(0px 1px 2px rgba(0, 0, 0, 0.3));\n",
              "      fill: #FFFFFF;\n",
              "    }\n",
              "  </style>\n",
              "\n",
              "      <script>\n",
              "        const buttonEl =\n",
              "          document.querySelector('#df-0f60c483-d447-4446-8178-c83754f22889 button.colab-df-convert');\n",
              "        buttonEl.style.display =\n",
              "          google.colab.kernel.accessAllowed ? 'block' : 'none';\n",
              "\n",
              "        async function convertToInteractive(key) {\n",
              "          const element = document.querySelector('#df-0f60c483-d447-4446-8178-c83754f22889');\n",
              "          const dataTable =\n",
              "            await google.colab.kernel.invokeFunction('convertToInteractive',\n",
              "                                                     [key], {});\n",
              "          if (!dataTable) return;\n",
              "\n",
              "          const docLinkHtml = 'Like what you see? Visit the ' +\n",
              "            '<a target=\"_blank\" href=https://colab.research.google.com/notebooks/data_table.ipynb>data table notebook</a>'\n",
              "            + ' to learn more about interactive tables.';\n",
              "          element.innerHTML = '';\n",
              "          dataTable['output_type'] = 'display_data';\n",
              "          await google.colab.output.renderOutput(dataTable, element);\n",
              "          const docLink = document.createElement('div');\n",
              "          docLink.innerHTML = docLinkHtml;\n",
              "          element.appendChild(docLink);\n",
              "        }\n",
              "      </script>\n",
              "    </div>\n",
              "  </div>\n",
              "  "
            ]
          },
          "metadata": {},
          "execution_count": 160
        }
      ]
    },
    {
      "cell_type": "code",
      "source": [
        "# add log of price to dataframe\n",
        "df['log_price'] = np.log(df['price'])"
      ],
      "metadata": {
        "id": "5pREcxs0SDCz"
      },
      "execution_count": 131,
      "outputs": []
    },
    {
      "cell_type": "code",
      "source": [
        "# drop all columns which are not necessary for this analysis\n",
        "\n",
        "df.drop(['neighbourhood','name','host_name','number_of_reviews','last_review','reviews_per_month',\n",
        "         'calculated_host_listings_count','id','host_id','latitude','longitude'], axis=1, inplace = True)"
      ],
      "metadata": {
        "id": "0WizH9jTvuY7"
      },
      "execution_count": 132,
      "outputs": []
    },
    {
      "cell_type": "code",
      "source": [
        "# drop units that are not able to be rented (availability_365 = 0)\n",
        "zero_availability = df.loc[df.availability_365 == 0, 'availability_365'].index\n",
        "# zero availability means unit is NOT available so best drop from out model\n",
        "df.drop(zero_availability,axis=0,inplace=True)"
      ],
      "metadata": {
        "id": "TJg4yAi7R_MS"
      },
      "execution_count": 133,
      "outputs": []
    },
    {
      "cell_type": "code",
      "source": [
        "df.shape"
      ],
      "metadata": {
        "colab": {
          "base_uri": "https://localhost:8080/"
        },
        "id": "VWquprRHPmVX",
        "outputId": "68f95e7f-3d15-4751-e843-c3543d2b9304"
      },
      "execution_count": 134,
      "outputs": [
        {
          "output_type": "execute_result",
          "data": {
            "text/plain": [
              "(8624, 10)"
            ]
          },
          "metadata": {},
          "execution_count": 134
        }
      ]
    },
    {
      "cell_type": "code",
      "source": [
        "column_names= df_regression.columns\n",
        "features = column_names[1:]\n",
        "label = column_names[9]\n",
        "display(features, label)"
      ],
      "metadata": {
        "colab": {
          "base_uri": "https://localhost:8080/",
          "height": 90
        },
        "id": "K2dtXO9-s8i-",
        "outputId": "e682d275-1676-44aa-9dca-a1911df855cf"
      },
      "execution_count": 178,
      "outputs": [
        {
          "output_type": "display_data",
          "data": {
            "text/plain": [
              "Index(['room_type', 'price', 'minimum_nights', 'availability_365',\n",
              "       'property_type', 'accommodates', 'bedrooms', 'bathrooms', 'log_price'],\n",
              "      dtype='object')"
            ]
          },
          "metadata": {}
        },
        {
          "output_type": "display_data",
          "data": {
            "text/plain": [
              "'log_price'"
            ],
            "application/vnd.google.colaboratory.intrinsic+json": {
              "type": "string"
            }
          },
          "metadata": {}
        }
      ]
    },
    {
      "cell_type": "code",
      "source": [
        "df_regression.dtypes"
      ],
      "metadata": {
        "colab": {
          "base_uri": "https://localhost:8080/"
        },
        "id": "3FsrzCXWtpDp",
        "outputId": "34f0a67c-9cb7-441f-923d-301832743bc6"
      },
      "execution_count": 179,
      "outputs": [
        {
          "output_type": "execute_result",
          "data": {
            "text/plain": [
              "neighbourhood_group     object\n",
              "room_type               object\n",
              "price                    int64\n",
              "minimum_nights           int64\n",
              "availability_365         int64\n",
              "property_type           object\n",
              "accommodates             int64\n",
              "bedrooms               float64\n",
              "bathrooms              float64\n",
              "log_price              float64\n",
              "dtype: object"
            ]
          },
          "metadata": {},
          "execution_count": 179
        }
      ]
    },
    {
      "cell_type": "code",
      "source": [
        "numeric_data = df.select_dtypes(include=[np.number])"
      ],
      "metadata": {
        "id": "oZwY6TnKEZGJ"
      },
      "execution_count": 135,
      "outputs": []
    },
    {
      "cell_type": "code",
      "source": [
        "# convert \"neighbourhood_group\" to numerical"
      ],
      "metadata": {
        "id": "V4o3L3Iv9-Yp"
      },
      "execution_count": 180,
      "outputs": []
    },
    {
      "cell_type": "code",
      "source": [
        "numeric_data"
      ],
      "metadata": {
        "id": "hm7a8D0AQ-yY",
        "outputId": "316629d7-d710-4a91-811d-c2fb34d21744",
        "colab": {
          "base_uri": "https://localhost:8080/",
          "height": 423
        }
      },
      "execution_count": 137,
      "outputs": [
        {
          "output_type": "execute_result",
          "data": {
            "text/plain": [
              "       price  minimum_nights  availability_365  accommodates  bedrooms  \\\n",
              "0        225               1               355             1       0.0   \n",
              "2         79               2               220             2       1.0   \n",
              "4         89               4               314             2       1.0   \n",
              "5        140               2                46             3       0.0   \n",
              "6        215               2               321             4       1.0   \n",
              "...      ...             ...               ...           ...       ...   \n",
              "16000     85               3               300             2       1.0   \n",
              "16001     95               1                 2             2       1.0   \n",
              "16002    170               1               363             6       2.0   \n",
              "16003     54               6                15             2       1.0   \n",
              "16004     90               7                23             2       1.0   \n",
              "\n",
              "       bathrooms  log_price  \n",
              "0            1.0   5.416100  \n",
              "2            1.0   4.369448  \n",
              "4            1.5   4.488636  \n",
              "5            1.0   4.941642  \n",
              "6            1.0   5.370638  \n",
              "...          ...        ...  \n",
              "16000        1.0   4.442651  \n",
              "16001        1.0   4.553877  \n",
              "16002        1.0   5.135798  \n",
              "16003        1.0   3.988984  \n",
              "16004        2.0   4.499810  \n",
              "\n",
              "[8624 rows x 7 columns]"
            ],
            "text/html": [
              "\n",
              "  <div id=\"df-96652d7e-e410-4063-b674-b0ff7dcb145a\">\n",
              "    <div class=\"colab-df-container\">\n",
              "      <div>\n",
              "<style scoped>\n",
              "    .dataframe tbody tr th:only-of-type {\n",
              "        vertical-align: middle;\n",
              "    }\n",
              "\n",
              "    .dataframe tbody tr th {\n",
              "        vertical-align: top;\n",
              "    }\n",
              "\n",
              "    .dataframe thead th {\n",
              "        text-align: right;\n",
              "    }\n",
              "</style>\n",
              "<table border=\"1\" class=\"dataframe\">\n",
              "  <thead>\n",
              "    <tr style=\"text-align: right;\">\n",
              "      <th></th>\n",
              "      <th>price</th>\n",
              "      <th>minimum_nights</th>\n",
              "      <th>availability_365</th>\n",
              "      <th>accommodates</th>\n",
              "      <th>bedrooms</th>\n",
              "      <th>bathrooms</th>\n",
              "      <th>log_price</th>\n",
              "    </tr>\n",
              "  </thead>\n",
              "  <tbody>\n",
              "    <tr>\n",
              "      <th>0</th>\n",
              "      <td>225</td>\n",
              "      <td>1</td>\n",
              "      <td>355</td>\n",
              "      <td>1</td>\n",
              "      <td>0.0</td>\n",
              "      <td>1.0</td>\n",
              "      <td>5.416100</td>\n",
              "    </tr>\n",
              "    <tr>\n",
              "      <th>2</th>\n",
              "      <td>79</td>\n",
              "      <td>2</td>\n",
              "      <td>220</td>\n",
              "      <td>2</td>\n",
              "      <td>1.0</td>\n",
              "      <td>1.0</td>\n",
              "      <td>4.369448</td>\n",
              "    </tr>\n",
              "    <tr>\n",
              "      <th>4</th>\n",
              "      <td>89</td>\n",
              "      <td>4</td>\n",
              "      <td>314</td>\n",
              "      <td>2</td>\n",
              "      <td>1.0</td>\n",
              "      <td>1.5</td>\n",
              "      <td>4.488636</td>\n",
              "    </tr>\n",
              "    <tr>\n",
              "      <th>5</th>\n",
              "      <td>140</td>\n",
              "      <td>2</td>\n",
              "      <td>46</td>\n",
              "      <td>3</td>\n",
              "      <td>0.0</td>\n",
              "      <td>1.0</td>\n",
              "      <td>4.941642</td>\n",
              "    </tr>\n",
              "    <tr>\n",
              "      <th>6</th>\n",
              "      <td>215</td>\n",
              "      <td>2</td>\n",
              "      <td>321</td>\n",
              "      <td>4</td>\n",
              "      <td>1.0</td>\n",
              "      <td>1.0</td>\n",
              "      <td>5.370638</td>\n",
              "    </tr>\n",
              "    <tr>\n",
              "      <th>...</th>\n",
              "      <td>...</td>\n",
              "      <td>...</td>\n",
              "      <td>...</td>\n",
              "      <td>...</td>\n",
              "      <td>...</td>\n",
              "      <td>...</td>\n",
              "      <td>...</td>\n",
              "    </tr>\n",
              "    <tr>\n",
              "      <th>16000</th>\n",
              "      <td>85</td>\n",
              "      <td>3</td>\n",
              "      <td>300</td>\n",
              "      <td>2</td>\n",
              "      <td>1.0</td>\n",
              "      <td>1.0</td>\n",
              "      <td>4.442651</td>\n",
              "    </tr>\n",
              "    <tr>\n",
              "      <th>16001</th>\n",
              "      <td>95</td>\n",
              "      <td>1</td>\n",
              "      <td>2</td>\n",
              "      <td>2</td>\n",
              "      <td>1.0</td>\n",
              "      <td>1.0</td>\n",
              "      <td>4.553877</td>\n",
              "    </tr>\n",
              "    <tr>\n",
              "      <th>16002</th>\n",
              "      <td>170</td>\n",
              "      <td>1</td>\n",
              "      <td>363</td>\n",
              "      <td>6</td>\n",
              "      <td>2.0</td>\n",
              "      <td>1.0</td>\n",
              "      <td>5.135798</td>\n",
              "    </tr>\n",
              "    <tr>\n",
              "      <th>16003</th>\n",
              "      <td>54</td>\n",
              "      <td>6</td>\n",
              "      <td>15</td>\n",
              "      <td>2</td>\n",
              "      <td>1.0</td>\n",
              "      <td>1.0</td>\n",
              "      <td>3.988984</td>\n",
              "    </tr>\n",
              "    <tr>\n",
              "      <th>16004</th>\n",
              "      <td>90</td>\n",
              "      <td>7</td>\n",
              "      <td>23</td>\n",
              "      <td>2</td>\n",
              "      <td>1.0</td>\n",
              "      <td>2.0</td>\n",
              "      <td>4.499810</td>\n",
              "    </tr>\n",
              "  </tbody>\n",
              "</table>\n",
              "<p>8624 rows × 7 columns</p>\n",
              "</div>\n",
              "      <button class=\"colab-df-convert\" onclick=\"convertToInteractive('df-96652d7e-e410-4063-b674-b0ff7dcb145a')\"\n",
              "              title=\"Convert this dataframe to an interactive table.\"\n",
              "              style=\"display:none;\">\n",
              "        \n",
              "  <svg xmlns=\"http://www.w3.org/2000/svg\" height=\"24px\"viewBox=\"0 0 24 24\"\n",
              "       width=\"24px\">\n",
              "    <path d=\"M0 0h24v24H0V0z\" fill=\"none\"/>\n",
              "    <path d=\"M18.56 5.44l.94 2.06.94-2.06 2.06-.94-2.06-.94-.94-2.06-.94 2.06-2.06.94zm-11 1L8.5 8.5l.94-2.06 2.06-.94-2.06-.94L8.5 2.5l-.94 2.06-2.06.94zm10 10l.94 2.06.94-2.06 2.06-.94-2.06-.94-.94-2.06-.94 2.06-2.06.94z\"/><path d=\"M17.41 7.96l-1.37-1.37c-.4-.4-.92-.59-1.43-.59-.52 0-1.04.2-1.43.59L10.3 9.45l-7.72 7.72c-.78.78-.78 2.05 0 2.83L4 21.41c.39.39.9.59 1.41.59.51 0 1.02-.2 1.41-.59l7.78-7.78 2.81-2.81c.8-.78.8-2.07 0-2.86zM5.41 20L4 18.59l7.72-7.72 1.47 1.35L5.41 20z\"/>\n",
              "  </svg>\n",
              "      </button>\n",
              "      \n",
              "  <style>\n",
              "    .colab-df-container {\n",
              "      display:flex;\n",
              "      flex-wrap:wrap;\n",
              "      gap: 12px;\n",
              "    }\n",
              "\n",
              "    .colab-df-convert {\n",
              "      background-color: #E8F0FE;\n",
              "      border: none;\n",
              "      border-radius: 50%;\n",
              "      cursor: pointer;\n",
              "      display: none;\n",
              "      fill: #1967D2;\n",
              "      height: 32px;\n",
              "      padding: 0 0 0 0;\n",
              "      width: 32px;\n",
              "    }\n",
              "\n",
              "    .colab-df-convert:hover {\n",
              "      background-color: #E2EBFA;\n",
              "      box-shadow: 0px 1px 2px rgba(60, 64, 67, 0.3), 0px 1px 3px 1px rgba(60, 64, 67, 0.15);\n",
              "      fill: #174EA6;\n",
              "    }\n",
              "\n",
              "    [theme=dark] .colab-df-convert {\n",
              "      background-color: #3B4455;\n",
              "      fill: #D2E3FC;\n",
              "    }\n",
              "\n",
              "    [theme=dark] .colab-df-convert:hover {\n",
              "      background-color: #434B5C;\n",
              "      box-shadow: 0px 1px 3px 1px rgba(0, 0, 0, 0.15);\n",
              "      filter: drop-shadow(0px 1px 2px rgba(0, 0, 0, 0.3));\n",
              "      fill: #FFFFFF;\n",
              "    }\n",
              "  </style>\n",
              "\n",
              "      <script>\n",
              "        const buttonEl =\n",
              "          document.querySelector('#df-96652d7e-e410-4063-b674-b0ff7dcb145a button.colab-df-convert');\n",
              "        buttonEl.style.display =\n",
              "          google.colab.kernel.accessAllowed ? 'block' : 'none';\n",
              "\n",
              "        async function convertToInteractive(key) {\n",
              "          const element = document.querySelector('#df-96652d7e-e410-4063-b674-b0ff7dcb145a');\n",
              "          const dataTable =\n",
              "            await google.colab.kernel.invokeFunction('convertToInteractive',\n",
              "                                                     [key], {});\n",
              "          if (!dataTable) return;\n",
              "\n",
              "          const docLinkHtml = 'Like what you see? Visit the ' +\n",
              "            '<a target=\"_blank\" href=https://colab.research.google.com/notebooks/data_table.ipynb>data table notebook</a>'\n",
              "            + ' to learn more about interactive tables.';\n",
              "          element.innerHTML = '';\n",
              "          dataTable['output_type'] = 'display_data';\n",
              "          await google.colab.output.renderOutput(dataTable, element);\n",
              "          const docLink = document.createElement('div');\n",
              "          docLink.innerHTML = docLinkHtml;\n",
              "          element.appendChild(docLink);\n",
              "        }\n",
              "      </script>\n",
              "    </div>\n",
              "  </div>\n",
              "  "
            ]
          },
          "metadata": {},
          "execution_count": 137
        }
      ]
    },
    {
      "cell_type": "code",
      "source": [
        "# any null values? 0 means none found == no need to fix nulls\n",
        "df.isna().sum()"
      ],
      "metadata": {
        "id": "ZmbvTP7bOJC4",
        "outputId": "32213017-8767-4aec-9e85-b8abada1097e",
        "colab": {
          "base_uri": "https://localhost:8080/"
        }
      },
      "execution_count": 138,
      "outputs": [
        {
          "output_type": "execute_result",
          "data": {
            "text/plain": [
              "neighbourhood_group    0\n",
              "room_type              0\n",
              "price                  0\n",
              "minimum_nights         0\n",
              "availability_365       0\n",
              "property_type          0\n",
              "accommodates           0\n",
              "bedrooms               0\n",
              "bathrooms              0\n",
              "log_price              0\n",
              "dtype: int64"
            ]
          },
          "metadata": {},
          "execution_count": 138
        }
      ]
    },
    {
      "cell_type": "code",
      "source": [
        "feature_names = column_names[:-1]\n",
        "label_name = column_names[-1]\n",
        "\n",
        "X_preprocess = make_column_transformer((OrdinalEncoder(), feature_names), \n",
        "                                       remainder='drop')\n",
        "y_preprocess = LabelEncoder()"
      ],
      "metadata": {
        "id": "KZbpsDB1wWVO"
      },
      "execution_count": 185,
      "outputs": []
    },
    {
      "cell_type": "code",
      "source": [
        "X = X_preprocess.fit_transform(df_regression[feature_names])\n",
        "y = y_preprocess.fit_transform(df_regression[label_name])"
      ],
      "metadata": {
        "id": "CwttlA7uwLiR"
      },
      "execution_count": 190,
      "outputs": []
    },
    {
      "cell_type": "code",
      "source": [
        "display(X, y)"
      ],
      "metadata": {
        "colab": {
          "base_uri": "https://localhost:8080/",
          "height": 161
        },
        "id": "S6-xPCU1wPcE",
        "outputId": "b10a1109-6ebc-45ce-df63-612d5b93e412"
      },
      "execution_count": 191,
      "outputs": [
        {
          "output_type": "display_data",
          "data": {
            "text/plain": [
              "array([[  2.,   0., 200., ...,   0.,   0.,   1.],\n",
              "       [  2.,   1.,  58., ...,   1.,   1.,   1.],\n",
              "       [  1.,   1.,  68., ...,   1.,   1.,   2.],\n",
              "       ...,\n",
              "       [  1.,   0., 148., ...,   5.,   2.,   1.],\n",
              "       [  1.,   1.,  33., ...,   1.,   1.,   1.],\n",
              "       [  2.,   1.,  69., ...,   1.,   1.,   3.]])"
            ]
          },
          "metadata": {}
        },
        {
          "output_type": "display_data",
          "data": {
            "text/plain": [
              "array([200,  58,  68, ..., 148,  33,  69])"
            ]
          },
          "metadata": {}
        }
      ]
    },
    {
      "cell_type": "markdown",
      "source": [
        "# So our business question for this Linear Regression probllem: Predit the rental price of a property in a specific neighbourhood with the the type of accomation the user is looking for (bedroom/accomodates/bathrooms/property_type/room_type)"
      ],
      "metadata": {
        "id": "zyx64VCrrfBY"
      }
    },
    {
      "cell_type": "markdown",
      "source": [
        "# **Project Assignment: Linear Regression**\n",
        "The objective of this assignment is for you to perform a complete implementation of linear\n",
        "regression using your group’s chosen dataset.\n"
      ],
      "metadata": {
        "id": "zikFLSB64ZQi"
      }
    },
    {
      "cell_type": "markdown",
      "source": [
        " **1. Use scikit-learn’s *sklearn.linear_model.LinearRegression* to implement a linear surface for your dataset.**"
      ],
      "metadata": {
        "id": "yGvBx-aT7CYp"
      }
    },
    {
      "cell_type": "code",
      "source": [
        "## LinearRegression\n",
        "\n",
        "# Setup random seed \n",
        "np.random.seed(42)\n",
        "\n",
        "linear_regressor = LinearRegression()\n",
        "linear_regressor.fit(X, y)\n",
        "\n",
        "print(\"Estimated intercept coefficient (bias term) of the linear regression model (b) : \", linear_regressor.intercept_)\n",
        "# `intercept_` represents the value of the target variable 'y' when all the features have zero values.\n",
        "print(\"\\n\")\n",
        "print(\"Estimated coefficients for the linear regression model (w):\", linear_regressor.coef_)\n",
        "# the coefficients 'w' represent the slope or gradient of the linear regression line. Specifically, each coefficient w[i] \n",
        "# represents the change in the predicted output y for a one-unit change in the corresponding feature X[i], \n",
        "# while holding all other features constant."
      ],
      "metadata": {
        "colab": {
          "base_uri": "https://localhost:8080/"
        },
        "id": "i_YYtu-89vLw",
        "outputId": "056f575e-e47e-42b5-8c8c-434a4b924613"
      },
      "execution_count": 213,
      "outputs": [
        {
          "output_type": "stream",
          "name": "stdout",
          "text": [
            "Estimated intercept coefficient (bias term) of the linear regression model (b) :  -2.842170943040401e-14\n",
            "\n",
            "\n",
            "Estimated coefficients for the linear regression model (w): [ 2.49929164e-15 -4.44644321e-14  1.00000000e+00 -6.48786580e-16\n",
            "  2.22044605e-16  7.93635990e-16  1.64365049e-16  4.25007252e-17\n",
            " -8.14832143e-16]\n"
          ]
        }
      ]
    },
    {
      "cell_type": "code",
      "source": [
        "linear_regressor.score(X, y)"
      ],
      "metadata": {
        "colab": {
          "base_uri": "https://localhost:8080/"
        },
        "id": "JZ8LtjEHDv7w",
        "outputId": "970518c0-ef0b-4156-ca16-64d41e716e53"
      },
      "execution_count": 202,
      "outputs": [
        {
          "output_type": "execute_result",
          "data": {
            "text/plain": [
              "1.0"
            ]
          },
          "metadata": {},
          "execution_count": 202
        }
      ]
    },
    {
      "cell_type": "markdown",
      "source": [
        " **2. Use scikit-learn’s *sklearn.linear_model.Ridge* to implement linear least squares with L2 regularization for your dataset using the default parameters.**\n"
      ],
      "metadata": {
        "id": "TKnKa0pz9wb9"
      }
    },
    {
      "cell_type": "code",
      "source": [
        "## Ridge\n",
        "\n",
        "# Setup random seed \n",
        "np.random.seed(42)\n",
        "\n",
        "# Split the data into train and test sets\n",
        "\n",
        "X_train, X_test, y_train, y_test = train_test_split(X, y, test_size = 0.2)\n",
        "\n",
        "# Instantiate and fit the model (on the training set)\n",
        "\n",
        "ridge_model = Ridge()\n",
        "\n",
        "ridge_model.fit(X_train, y_train)\n",
        "\n",
        "# Predict the response for test dataset\n",
        "\n",
        "y_pred = ridge_model.predict(X_test)\n",
        "\n",
        "# Check the score of the model (on the test set)\n",
        "ridge_model.score(X_test, y_test) # linear relationship between the features and the label"
      ],
      "metadata": {
        "colab": {
          "base_uri": "https://localhost:8080/"
        },
        "id": "8mwid4kp9Nd9",
        "outputId": "4c8c73c4-9d71-4ed4-c4a3-8790fcb679a7"
      },
      "execution_count": 195,
      "outputs": [
        {
          "output_type": "execute_result",
          "data": {
            "text/plain": [
              "0.9999999999999994"
            ]
          },
          "metadata": {},
          "execution_count": 195
        }
      ]
    },
    {
      "cell_type": "code",
      "source": [],
      "metadata": {
        "id": "Oayvt6BTDLl9"
      },
      "execution_count": null,
      "outputs": []
    }
  ]
}