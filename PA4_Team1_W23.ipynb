{
  "nbformat": 4,
  "nbformat_minor": 0,
  "metadata": {
    "colab": {
      "provenance": [],
      "include_colab_link": true
    },
    "kernelspec": {
      "name": "python3",
      "display_name": "Python 3"
    },
    "language_info": {
      "name": "python"
    }
  },
  "cells": [
    {
      "cell_type": "markdown",
      "metadata": {
        "id": "view-in-github",
        "colab_type": "text"
      },
      "source": [
        "<a href=\"https://colab.research.google.com/github/cboyda/MachineLearning/blob/main/PA4_Team1_W23.ipynb\" target=\"_parent\"><img src=\"https://colab.research.google.com/assets/colab-badge.svg\" alt=\"Open In Colab\"/></a>"
      ]
    },
    {
      "cell_type": "markdown",
      "source": [
        "# **Project Assignment #4: Decision Tree**\n",
        "\n",
        "Team member names:\n",
        "\n",
        "*  Brett Adams\n",
        "*  Cailenys Leslie\n",
        "*  Clinton Boyda \n",
        "*  Tanvir Hossain\n",
        "*  Ram Dershan\n",
        "\n",
        "Dataset: \n",
        "[New York City Airbnb Open Data](https://www.kaggle.com/datasets/dgomonov/new-york-city-airbnb-open-data)"
      ],
      "metadata": {
        "id": "zDOGttYXjqQW"
      }
    },
    {
      "cell_type": "code",
      "source": [
        "import numpy as np\n",
        "import pandas as pd\n",
        "from sklearn import datasets\n",
        "from sklearn import model_selection\n",
        "from  sklearn import neighbors\n",
        "import plotly.graph_objects as go\n",
        "import math\n",
        "import matplotlib.pyplot as plt\n",
        "import seaborn as sns\n",
        "import plotly.express as px\n",
        "import warnings\n",
        "warnings.filterwarnings(\"ignore\")"
      ],
      "metadata": {
        "id": "6NUwJq9GS3JJ"
      },
      "execution_count": 3,
      "outputs": []
    },
    {
      "cell_type": "code",
      "source": [
        "# Connect to Dataset\n",
        "\n",
        "#filename = \"https://raw.githubusercontent.com/cboyda/MachineLearning/main/AB_NYC_2019.csv\"\n",
        "\n",
        "#df = pd.read_csv(filename)\n",
        "\n",
        "# we can work on merging the new dataset in the code below = Brett?\n",
        "\n",
        "# load both data sets in\n",
        "original = \"https://raw.githubusercontent.com/cboyda/MachineLearning/main/AB_NYC_2019.csv\"\n",
        "df_original = pd.read_csv(original)\n",
        "additional = \"https://raw.githubusercontent.com/cboyda/MachineLearning/main/full_nyc_dataset_cleaned_table-1.csv\"\n",
        "df_additional = pd.read_csv(additional)"
      ],
      "metadata": {
        "id": "-hdMYgqyCz3s"
      },
      "execution_count": 4,
      "outputs": []
    },
    {
      "cell_type": "code",
      "source": [
        "# Merge the two datasets with an inner join, validate that no duplicate id values exist for a one to one join\n",
        "df = pd.merge(df_original, df_additional, how = \"inner\", on = \"id\", validate=\"one_to_one\", suffixes=(\"_original\",\"_additional\"))\n",
        "df.shape"
      ],
      "metadata": {
        "colab": {
          "base_uri": "https://localhost:8080/"
        },
        "id": "GI4N1jHR_CZl",
        "outputId": "dc1266d2-ba71-463d-b893-ed224cc9790e"
      },
      "execution_count": 5,
      "outputs": [
        {
          "output_type": "execute_result",
          "data": {
            "text/plain": [
              "(16005, 22)"
            ]
          },
          "metadata": {},
          "execution_count": 5
        }
      ]
    },
    {
      "cell_type": "code",
      "source": [
        "df.columns"
      ],
      "metadata": {
        "colab": {
          "base_uri": "https://localhost:8080/"
        },
        "id": "BA4uELpXKp00",
        "outputId": "027c7822-5126-446e-eff9-2100ad0dc5ba"
      },
      "execution_count": 6,
      "outputs": [
        {
          "output_type": "execute_result",
          "data": {
            "text/plain": [
              "Index(['id', 'name', 'host_id', 'host_name', 'neighbourhood_group',\n",
              "       'neighbourhood', 'latitude', 'longitude', 'room_type_original', 'price',\n",
              "       'minimum_nights', 'number_of_reviews', 'last_review',\n",
              "       'reviews_per_month', 'calculated_host_listings_count',\n",
              "       'availability_365', 'property_type', 'room_type_additional',\n",
              "       'accommodates', 'bathrooms_text', 'bedrooms', 'beds'],\n",
              "      dtype='object')"
            ]
          },
          "metadata": {},
          "execution_count": 6
        }
      ]
    },
    {
      "cell_type": "markdown",
      "source": [
        "# **Data Cleaning**"
      ],
      "metadata": {
        "id": "ynvupFz4r5br"
      }
    },
    {
      "cell_type": "code",
      "source": [
        "# check value counts for property_type\n",
        "df['property_type'].value_counts()"
      ],
      "metadata": {
        "colab": {
          "base_uri": "https://localhost:8080/"
        },
        "id": "8-Fc83ILr-Ow",
        "outputId": "71ff2976-1c03-4bf2-873a-f50a0d7a6b7b"
      },
      "execution_count": 7,
      "outputs": [
        {
          "output_type": "execute_result",
          "data": {
            "text/plain": [
              "Entire rental unit                    6975\n",
              "Private room in rental unit           5153\n",
              "Private room in home                   844\n",
              "Entire home                            513\n",
              "Entire condo                           418\n",
              "Private room in townhouse              352\n",
              "Entire loft                            326\n",
              "Entire townhouse                       297\n",
              "Private room in condo                  180\n",
              "Shared room in rental unit             178\n",
              "Private room in loft                   149\n",
              "Entire guest suite                     133\n",
              "Entire serviced apartment               98\n",
              "Room in boutique hotel                  68\n",
              "Room in hotel                           56\n",
              "Private room in guest suite             37\n",
              "Entire place                            33\n",
              "Room in serviced apartment              24\n",
              "Shared room in loft                     19\n",
              "Entire guesthouse                       19\n",
              "Private room                            18\n",
              "Private room in resort                  17\n",
              "Private room in bed and breakfast       14\n",
              "Shared room in home                     11\n",
              "Shared room in condo                     7\n",
              "Entire bungalow                          7\n",
              "Tiny home                                6\n",
              "Private room in guesthouse               6\n",
              "Floor                                    6\n",
              "Private room in hostel                   4\n",
              "Room in bed and breakfast                4\n",
              "Entire cottage                           4\n",
              "Private room in bungalow                 3\n",
              "Entire home/apt                          3\n",
              "Private room in villa                    3\n",
              "Private room in houseboat                2\n",
              "Shared room in townhouse                 2\n",
              "Entire villa                             2\n",
              "Private room in serviced apartment       2\n",
              "Houseboat                                2\n",
              "Shared room in floor                     1\n",
              "Cave                                     1\n",
              "Boat                                     1\n",
              "Private room in tent                     1\n",
              "Shared room in guest suite               1\n",
              "Room in resort                           1\n",
              "Room in aparthotel                       1\n",
              "Shared room in guesthouse                1\n",
              "Private room in farm stay                1\n",
              "Private room in floor                    1\n",
              "Name: property_type, dtype: int64"
            ]
          },
          "metadata": {},
          "execution_count": 7
        }
      ]
    },
    {
      "cell_type": "markdown",
      "source": [
        "There are property types that we do not want to consider in our analysis (Boats, Caves and Villa's) so we will remove these examples."
      ],
      "metadata": {
        "id": "Fn624nmBs3GM"
      }
    },
    {
      "cell_type": "code",
      "source": [
        "# Check shape before dropping examples\n",
        "df.shape"
      ],
      "metadata": {
        "colab": {
          "base_uri": "https://localhost:8080/"
        },
        "id": "47cVbIsyt_uH",
        "outputId": "dd6d7085-77c4-459e-9ed7-94860d1d0af9"
      },
      "execution_count": 8,
      "outputs": [
        {
          "output_type": "execute_result",
          "data": {
            "text/plain": [
              "(16005, 22)"
            ]
          },
          "metadata": {},
          "execution_count": 8
        }
      ]
    },
    {
      "cell_type": "code",
      "source": [
        "df = df.drop(df[(df['property_type'] == 'Cave') | (df['property_type'] == 'Boat') | \n",
        "                (df['property_type'] == 'Floor') | (df['property_type'] == 'Private room in farm stay') |\n",
        "                (df['property_type'] == 'Entire villa') | (df['property_type'] == 'Private room in houseboat') |\n",
        "                (df['property_type'] == 'Private room in villa') | (df['property_type'] == 'Private room in tent') |\n",
        "                (df['property_type'] == 'Houseboat')].index)"
      ],
      "metadata": {
        "id": "DvCL62EAtAJF"
      },
      "execution_count": 9,
      "outputs": []
    },
    {
      "cell_type": "code",
      "source": [
        "# Check shape after dropping examples\n",
        "df.shape"
      ],
      "metadata": {
        "colab": {
          "base_uri": "https://localhost:8080/"
        },
        "id": "k-EUpr5ruNjZ",
        "outputId": "807c2e7b-1293-429c-a8af-50debfee1bee"
      },
      "execution_count": 10,
      "outputs": [
        {
          "output_type": "execute_result",
          "data": {
            "text/plain": [
              "(15986, 22)"
            ]
          },
          "metadata": {},
          "execution_count": 10
        }
      ]
    },
    {
      "cell_type": "code",
      "source": [
        "# assess new value counts for property_type\n",
        "df['property_type'].value_counts()"
      ],
      "metadata": {
        "colab": {
          "base_uri": "https://localhost:8080/"
        },
        "id": "X_L9sKlrxqnM",
        "outputId": "5d6e5f1a-a2d7-40aa-b613-3bc379f048ba"
      },
      "execution_count": 11,
      "outputs": [
        {
          "output_type": "execute_result",
          "data": {
            "text/plain": [
              "Entire rental unit                    6975\n",
              "Private room in rental unit           5153\n",
              "Private room in home                   844\n",
              "Entire home                            513\n",
              "Entire condo                           418\n",
              "Private room in townhouse              352\n",
              "Entire loft                            326\n",
              "Entire townhouse                       297\n",
              "Private room in condo                  180\n",
              "Shared room in rental unit             178\n",
              "Private room in loft                   149\n",
              "Entire guest suite                     133\n",
              "Entire serviced apartment               98\n",
              "Room in boutique hotel                  68\n",
              "Room in hotel                           56\n",
              "Private room in guest suite             37\n",
              "Entire place                            33\n",
              "Room in serviced apartment              24\n",
              "Entire guesthouse                       19\n",
              "Shared room in loft                     19\n",
              "Private room                            18\n",
              "Private room in resort                  17\n",
              "Private room in bed and breakfast       14\n",
              "Shared room in home                     11\n",
              "Shared room in condo                     7\n",
              "Entire bungalow                          7\n",
              "Tiny home                                6\n",
              "Private room in guesthouse               6\n",
              "Private room in hostel                   4\n",
              "Entire cottage                           4\n",
              "Room in bed and breakfast                4\n",
              "Private room in bungalow                 3\n",
              "Entire home/apt                          3\n",
              "Shared room in townhouse                 2\n",
              "Private room in serviced apartment       2\n",
              "Shared room in floor                     1\n",
              "Private room in floor                    1\n",
              "Shared room in guest suite               1\n",
              "Room in resort                           1\n",
              "Room in aparthotel                       1\n",
              "Shared room in guesthouse                1\n",
              "Name: property_type, dtype: int64"
            ]
          },
          "metadata": {},
          "execution_count": 11
        }
      ]
    },
    {
      "cell_type": "code",
      "source": [
        "# extract the numerical values from the bathroom_text column for consideration \n",
        "df['bathrooms_text'].mask(df['bathrooms_text'] == 'Half-bath', 0.5, inplace=True)\n",
        "df['bathrooms_text'].mask(df['bathrooms_text'] == 'Shared half-bath', 0.5, inplace=True)\n",
        "df['bathrooms_text'].mask(df['bathrooms_text'] == 'Private half-bath', 0.5, inplace=True)\n",
        "df['bathrooms'] = df['bathrooms_text'].str.extract(r'\\b([\\d.]+)\\b')"
      ],
      "metadata": {
        "id": "Kj-T7RIlMfNk"
      },
      "execution_count": 12,
      "outputs": []
    },
    {
      "cell_type": "code",
      "source": [
        "# Convert bathroom to float type\n",
        "df['bathrooms'] = df['bathrooms'].astype(float)"
      ],
      "metadata": {
        "id": "GMnxWyzbMqBj"
      },
      "execution_count": 13,
      "outputs": []
    },
    {
      "cell_type": "code",
      "source": [
        "# drop bathroom_text, beds, and duplicated room_type column\n",
        "df.drop(['bathrooms_text', 'room_type_additional', 'beds'], axis = 1, inplace = True)"
      ],
      "metadata": {
        "id": "2mh4xGc-MtKq"
      },
      "execution_count": 14,
      "outputs": []
    },
    {
      "cell_type": "code",
      "source": [
        "# drop suffix from room_type_original\n",
        "df = df.rename(columns = {'room_type_original' : 'room_type'})"
      ],
      "metadata": {
        "id": "oUorW3VyoecL"
      },
      "execution_count": 15,
      "outputs": []
    },
    {
      "cell_type": "code",
      "source": [
        "# check for null values\n",
        "df.isnull().sum()"
      ],
      "metadata": {
        "id": "RCtxqNs3zTaz",
        "outputId": "d6650996-e572-40a3-f02c-1bb0e8ea0a17",
        "colab": {
          "base_uri": "https://localhost:8080/"
        }
      },
      "execution_count": 16,
      "outputs": [
        {
          "output_type": "execute_result",
          "data": {
            "text/plain": [
              "id                                   0\n",
              "name                                11\n",
              "host_id                              0\n",
              "host_name                           10\n",
              "neighbourhood_group                  0\n",
              "neighbourhood                        0\n",
              "latitude                             0\n",
              "longitude                            0\n",
              "room_type                            0\n",
              "price                                0\n",
              "minimum_nights                       0\n",
              "number_of_reviews                    0\n",
              "last_review                       3010\n",
              "reviews_per_month                 3010\n",
              "calculated_host_listings_count       0\n",
              "availability_365                     0\n",
              "property_type                        0\n",
              "accommodates                         0\n",
              "bedrooms                          1562\n",
              "bathrooms                           52\n",
              "dtype: int64"
            ]
          },
          "metadata": {},
          "execution_count": 16
        }
      ]
    },
    {
      "cell_type": "markdown",
      "source": [
        "For bedrooms and bathrooms with null values, fill with zero as properties can have no bedrooms or bathrooms"
      ],
      "metadata": {
        "id": "wGM-k4aV0R_P"
      }
    },
    {
      "cell_type": "code",
      "source": [
        "df[['bedrooms', 'bathrooms']] = df[['bedrooms', 'bathrooms']].fillna(value=0)"
      ],
      "metadata": {
        "id": "abkjBqSl0gGg"
      },
      "execution_count": 17,
      "outputs": []
    },
    {
      "cell_type": "code",
      "source": [
        "# Check null values again to confirm\n",
        "df.isnull().sum()"
      ],
      "metadata": {
        "id": "bsphI-j00wb-",
        "outputId": "bfed0612-eea4-4de0-de08-a4965dae10d6",
        "colab": {
          "base_uri": "https://localhost:8080/"
        }
      },
      "execution_count": 18,
      "outputs": [
        {
          "output_type": "execute_result",
          "data": {
            "text/plain": [
              "id                                   0\n",
              "name                                11\n",
              "host_id                              0\n",
              "host_name                           10\n",
              "neighbourhood_group                  0\n",
              "neighbourhood                        0\n",
              "latitude                             0\n",
              "longitude                            0\n",
              "room_type                            0\n",
              "price                                0\n",
              "minimum_nights                       0\n",
              "number_of_reviews                    0\n",
              "last_review                       3010\n",
              "reviews_per_month                 3010\n",
              "calculated_host_listings_count       0\n",
              "availability_365                     0\n",
              "property_type                        0\n",
              "accommodates                         0\n",
              "bedrooms                             0\n",
              "bathrooms                            0\n",
              "dtype: int64"
            ]
          },
          "metadata": {},
          "execution_count": 18
        }
      ]
    },
    {
      "cell_type": "markdown",
      "source": [
        "All other columns with null values are not important for this analysis as these columns will be dropped."
      ],
      "metadata": {
        "id": "n4PGSYEG02Fx"
      }
    },
    {
      "cell_type": "markdown",
      "source": [
        "# **Feature Scaling**\n"
      ],
      "metadata": {
        "id": "NqT1wa7qkSxd"
      }
    },
    {
      "cell_type": "code",
      "source": [
        "df.columns"
      ],
      "metadata": {
        "colab": {
          "base_uri": "https://localhost:8080/"
        },
        "id": "6J0j37AjHOrr",
        "outputId": "c559bb3e-84a8-4096-db54-e1ab745fa41e"
      },
      "execution_count": 19,
      "outputs": [
        {
          "output_type": "execute_result",
          "data": {
            "text/plain": [
              "Index(['id', 'name', 'host_id', 'host_name', 'neighbourhood_group',\n",
              "       'neighbourhood', 'latitude', 'longitude', 'room_type', 'price',\n",
              "       'minimum_nights', 'number_of_reviews', 'last_review',\n",
              "       'reviews_per_month', 'calculated_host_listings_count',\n",
              "       'availability_365', 'property_type', 'accommodates', 'bedrooms',\n",
              "       'bathrooms'],\n",
              "      dtype='object')"
            ]
          },
          "metadata": {},
          "execution_count": 19
        }
      ]
    },
    {
      "cell_type": "code",
      "source": [
        "# drop all columns not necessary\n",
        "# over simplifying for our first iteration\n",
        "\n",
        "df.drop(['neighbourhood','name','host_name','number_of_reviews','last_review','reviews_per_month',\n",
        "         'calculated_host_listings_count','id','host_id','latitude','longitude'], axis=1, inplace = True)\n",
        "# df.drop('a', inplace=True, axis=1)"
      ],
      "metadata": {
        "id": "0WizH9jTvuY7"
      },
      "execution_count": 20,
      "outputs": []
    },
    {
      "cell_type": "code",
      "source": [
        "numeric_data = df.select_dtypes(include=[np.number])\n",
        "categorical_data = df.select_dtypes(exclude=[np.number])\n"
      ],
      "metadata": {
        "id": "oZwY6TnKEZGJ"
      },
      "execution_count": 21,
      "outputs": []
    },
    {
      "cell_type": "code",
      "source": [
        "#define clean as duplicate\n",
        "df_clean = df.copy()"
      ],
      "metadata": {
        "id": "8I4N4BBokhYr"
      },
      "execution_count": 22,
      "outputs": []
    },
    {
      "cell_type": "markdown",
      "source": [
        "# **Decision Tree**"
      ],
      "metadata": {
        "id": "KJpQc4Ome8vq"
      }
    },
    {
      "cell_type": "markdown",
      "source": [
        "The objective of this assignment is for you to perform a complete implementation of a decision\n",
        "tree classifier using your team’s project dataset.\n",
        "0. Prior to building the ML model:\n",
        "\n",
        "*   Split your data into testing and training.\n",
        "*   Determine whether your label data needs to be discretized (if you have a numerical label)."
      ],
      "metadata": {
        "id": "JQtEZbRKftvs"
      }
    },
    {
      "cell_type": "markdown",
      "source": [
        "**Exploring decision tree construction:**\n",
        "Vary the following hyperparameters to build your decision tree classifier and report the evaluation metrics for both your training and testing data."
      ],
      "metadata": {
        "id": "gigv6O5YgcnI"
      }
    },
    {
      "cell_type": "markdown",
      "source": [
        "**1. Vary the criterion hyperparameter:**\n",
        "\n",
        "\n",
        "a. Create a DT using the criterion parameter “gini” and report the accuracy,\n",
        "precision, recall and F1 score.\n"
      ],
      "metadata": {
        "id": "Ud9ZI472g5cR"
      }
    },
    {
      "cell_type": "code",
      "source": [],
      "metadata": {
        "id": "ashKFYZghH_E"
      },
      "execution_count": 22,
      "outputs": []
    },
    {
      "cell_type": "markdown",
      "source": [
        "b. Create a DT using the criterion parameter “entropy” and report the accuracy,\n",
        "precision, recall and F1 score."
      ],
      "metadata": {
        "id": "YxPZ-ynvhKp4"
      }
    },
    {
      "cell_type": "code",
      "source": [],
      "metadata": {
        "id": "Ap-aCe7qhMVW"
      },
      "execution_count": null,
      "outputs": []
    },
    {
      "cell_type": "markdown",
      "source": [
        "**2. Vary the splitter hyperparameter:**"
      ],
      "metadata": {
        "id": "JYfd0NH7hNLO"
      }
    },
    {
      "cell_type": "markdown",
      "source": [
        "a. Create a DT using the splitter parameter “best” and report the accuracy,\n",
        "precision, recall and F1 score."
      ],
      "metadata": {
        "id": "jNkCcISMhRqG"
      }
    },
    {
      "cell_type": "code",
      "source": [],
      "metadata": {
        "id": "koqpbW-0hZ6g"
      },
      "execution_count": null,
      "outputs": []
    },
    {
      "cell_type": "markdown",
      "source": [
        "b. Create a DT using the splitter parameter “random” and report the accuracy,\n",
        "precision, recall and F1 score."
      ],
      "metadata": {
        "id": "VOy2cxEqh0am"
      }
    },
    {
      "cell_type": "code",
      "source": [],
      "metadata": {
        "id": "UVOnsQPNh3pW"
      },
      "execution_count": null,
      "outputs": []
    },
    {
      "cell_type": "markdown",
      "source": [
        "**3. Vary the min_samples_split hyperparameter:**"
      ],
      "metadata": {
        "id": "rVKKO6lojBBk"
      }
    },
    {
      "cell_type": "markdown",
      "source": [
        "a. Choose value 1 as your min_samples_split and report the accuracy, precision, recall and F1 score.\n"
      ],
      "metadata": {
        "id": "T-qce2gojLS1"
      }
    },
    {
      "cell_type": "code",
      "source": [],
      "metadata": {
        "id": "Tb5IARYgjpQV"
      },
      "execution_count": null,
      "outputs": []
    },
    {
      "cell_type": "markdown",
      "source": [
        "b. Choose value 2 as your min_samples_split and report the accuracy, precision, recall and F1 score.\n"
      ],
      "metadata": {
        "id": "MzgvqgPijsCa"
      }
    },
    {
      "cell_type": "code",
      "source": [],
      "metadata": {
        "id": "YecqaJ9JjyCA"
      },
      "execution_count": null,
      "outputs": []
    },
    {
      "cell_type": "markdown",
      "source": [
        "**4. Vary the min_samples_leaf hyperparameter:**"
      ],
      "metadata": {
        "id": "BoRwkKozj5Sg"
      }
    },
    {
      "cell_type": "markdown",
      "source": [
        "a. Choose value 1 as your min_samples_leaf and report the accuracy, precision, recall and F1 score."
      ],
      "metadata": {
        "id": "zN-yKTD0j9jc"
      }
    },
    {
      "cell_type": "code",
      "source": [],
      "metadata": {
        "id": "Oz6HDijwkFr9"
      },
      "execution_count": null,
      "outputs": []
    },
    {
      "cell_type": "markdown",
      "source": [
        "b. Choose value 2 as your min_samples_leaf and report the accuracy, precision, recall and F1 score.\n"
      ],
      "metadata": {
        "id": "aUTBSO5qkLBd"
      }
    },
    {
      "cell_type": "code",
      "source": [],
      "metadata": {
        "id": "Cl8zDdLDkM7J"
      },
      "execution_count": null,
      "outputs": []
    },
    {
      "cell_type": "markdown",
      "source": [
        "**5. Vary the max_depth hyperparameter:**\n"
      ],
      "metadata": {
        "id": "LAHws6b1kQah"
      }
    },
    {
      "cell_type": "markdown",
      "source": [
        "a. Assign a limiting depth, e.g. 4, for our hyperparameter and report the accuracy, precision, recall and F1 score.\n"
      ],
      "metadata": {
        "id": "RzX0upR3kShX"
      }
    },
    {
      "cell_type": "code",
      "source": [],
      "metadata": {
        "id": "-dpObLKpkYWw"
      },
      "execution_count": null,
      "outputs": []
    },
    {
      "cell_type": "markdown",
      "source": [
        "b. Assign a 2nd limiting depth, e.g. 8, for our hyperparameter and report the accuracy, precision, recall and F1 score.\n"
      ],
      "metadata": {
        "id": "mH4ZWawIkies"
      }
    },
    {
      "cell_type": "code",
      "source": [],
      "metadata": {
        "id": "qQjXtykikkX2"
      },
      "execution_count": null,
      "outputs": []
    },
    {
      "cell_type": "markdown",
      "source": [
        "**6. Hyperparameter overview:**\n",
        "\n",
        "Provide a 2–3 paragraph summary of the results of your hyperparameter exploration. How did your ML model improve or depreciate with these variations?\n"
      ],
      "metadata": {
        "id": "ShhbfjQRkt_5"
      }
    },
    {
      "cell_type": "code",
      "source": [],
      "metadata": {
        "id": "qabnKBd2k05k"
      },
      "execution_count": null,
      "outputs": []
    },
    {
      "cell_type": "markdown",
      "source": [
        "# **Final Decision Tree & Evaluation**"
      ],
      "metadata": {
        "id": "5KkGJwEqlBEJ"
      }
    },
    {
      "cell_type": "markdown",
      "source": [
        "**1. Which feature was used for the first split?**"
      ],
      "metadata": {
        "id": "q7nv3tcplKQM"
      }
    },
    {
      "cell_type": "code",
      "source": [],
      "metadata": {
        "id": "pcY5xYZtlD6O"
      },
      "execution_count": null,
      "outputs": []
    },
    {
      "cell_type": "markdown",
      "source": [
        "**2. How many leaves are in the optimal classifier/ML model?**"
      ],
      "metadata": {
        "id": "i2tRKwZOlNNA"
      }
    },
    {
      "cell_type": "code",
      "source": [],
      "metadata": {
        "id": "4essJK_ClSgi"
      },
      "execution_count": null,
      "outputs": []
    },
    {
      "cell_type": "markdown",
      "source": [
        "**3. Produce a confusion_matrix and describe your ML model’s accuracy in terms of the number of true and false positives and negatives.** (Cailenys)"
      ],
      "metadata": {
        "id": "fj3FYPGxlTfP"
      }
    },
    {
      "cell_type": "code",
      "source": [],
      "metadata": {
        "id": "vRwq71hylaC5"
      },
      "execution_count": null,
      "outputs": []
    },
    {
      "cell_type": "markdown",
      "source": [
        "**4. Using scikit-learn’s classification_report method, generate the accuracy, precision, recall, and F1 score for your model and describe your ML model’s accuracy.** (Cailenys)\n"
      ],
      "metadata": {
        "id": "jJLAt7uMlawy"
      }
    },
    {
      "cell_type": "code",
      "source": [],
      "metadata": {
        "id": "VX91BDe3lhRa"
      },
      "execution_count": null,
      "outputs": []
    },
    {
      "cell_type": "markdown",
      "source": [
        "# **Visualize the structure of your final ML model:**\n"
      ],
      "metadata": {
        "id": "w5FeSmOSlzaL"
      }
    },
    {
      "cell_type": "markdown",
      "source": [
        "**5. Plot your tree. [Hint: using scikit-learn’s tree.plot_tree**"
      ],
      "metadata": {
        "id": "0Lfxoe9yl_-Y"
      }
    },
    {
      "cell_type": "code",
      "source": [],
      "metadata": {
        "id": "xpoAiPscmDj7"
      },
      "execution_count": null,
      "outputs": []
    },
    {
      "cell_type": "markdown",
      "source": [
        "**6. Plot the decision surface of your tree using paired features. [See the following for help implementing:**\n",
        "https://scikit-learn.org/stable/auto_examples/tree/plot_iris_dtc.html#sphx-glr-auto-examples-tree-plot-iris-dtc-py]"
      ],
      "metadata": {
        "id": "VFrT8VNsmFTy"
      }
    },
    {
      "cell_type": "code",
      "source": [],
      "metadata": {
        "id": "onyppw55mPsj"
      },
      "execution_count": null,
      "outputs": []
    },
    {
      "cell_type": "markdown",
      "source": [
        "# **Decision tree path:** "
      ],
      "metadata": {
        "id": "ySDsDu_9mTfw"
      }
    },
    {
      "cell_type": "markdown",
      "source": [
        "**7. Provide a description of the potential path along your tree that a given new data point might take and provide its final result. The idea being that we want to know what decisions would be made along the way for that data point to end up at a particular label.**"
      ],
      "metadata": {
        "id": "-b_hwKBtmmzx"
      }
    },
    {
      "cell_type": "code",
      "source": [],
      "metadata": {
        "id": "YAeuZRlxmfbH"
      },
      "execution_count": null,
      "outputs": []
    },
    {
      "cell_type": "markdown",
      "source": [
        "# **ML model Accuracy**"
      ],
      "metadata": {
        "id": "PZWuVS8Lmt8S"
      }
    },
    {
      "cell_type": "markdown",
      "source": [
        "Perform a comparison of our decision tree model vs. k-NN model: provide a comparison table of accuracy for your various DT ML models and your k-NN ML models. This will be a tool for comparison for you as a technician, but it will also serve as a communication tool to summarize to stakeholders what you tried, what worked best, and why.\n"
      ],
      "metadata": {
        "id": "fYdgFhv9m3lJ"
      }
    },
    {
      "cell_type": "code",
      "source": [],
      "metadata": {
        "id": "MyWe2Be5nA6S"
      },
      "execution_count": null,
      "outputs": []
    },
    {
      "cell_type": "markdown",
      "source": [
        "# **Business Evaluation** (cailenys)\n"
      ],
      "metadata": {
        "id": "7Mx1FYV9nFmU"
      }
    },
    {
      "cell_type": "markdown",
      "source": [
        "One of the key objectives of this course is to learn how to implement ML algorithms to tackle business problems and objectives. Please provide us with a complete scenario of how the results of your decision tree classifier might be used.\n",
        "\n",
        "**Note:** you’ve previously considered some of these questions, the intent with reconsidering them is to iterate on our problem after obtaining results from our ML model:\n"
      ],
      "metadata": {
        "id": "2dFirkTjnIUC"
      }
    },
    {
      "cell_type": "markdown",
      "source": [
        "**1. What might be the motivation for a decision tree classifier?**\n"
      ],
      "metadata": {
        "id": "z9H3ix1XnjV6"
      }
    },
    {
      "cell_type": "code",
      "source": [],
      "metadata": {
        "id": "Wm-yksvUnlxt"
      },
      "execution_count": null,
      "outputs": []
    },
    {
      "cell_type": "markdown",
      "source": [
        "**2. What is the “action” that should be taken given the results of this prediction?**"
      ],
      "metadata": {
        "id": "O8HaDHoIntRV"
      }
    },
    {
      "cell_type": "code",
      "source": [],
      "metadata": {
        "id": "X2vthLxLnv50"
      },
      "execution_count": null,
      "outputs": []
    },
    {
      "cell_type": "markdown",
      "source": [
        "**3. Who is the best immediate person(s) to make use of the results of your prediction?**"
      ],
      "metadata": {
        "id": "F68RRxR1n0gj"
      }
    },
    {
      "cell_type": "code",
      "source": [],
      "metadata": {
        "id": "Pj22phgsn2VV"
      },
      "execution_count": null,
      "outputs": []
    },
    {
      "cell_type": "markdown",
      "source": [
        "**4. What is the potential payoff of this prediction for an organization? (e.g., costs or efficiency).**\n"
      ],
      "metadata": {
        "id": "7aQaR6KSn5lA"
      }
    },
    {
      "cell_type": "code",
      "source": [],
      "metadata": {
        "id": "m7TQ2qTyn8Fb"
      },
      "execution_count": null,
      "outputs": []
    },
    {
      "cell_type": "markdown",
      "source": [
        "**5. Do your ML models’ results change your problem? If so, how and why? If not, please explain.**"
      ],
      "metadata": {
        "id": "bSJuGoORn_kk"
      }
    },
    {
      "cell_type": "code",
      "source": [],
      "metadata": {
        "id": "Cvlex4BFoB_Y"
      },
      "execution_count": null,
      "outputs": []
    }
  ]
}