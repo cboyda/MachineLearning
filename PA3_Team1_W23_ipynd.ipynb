{
  "nbformat": 4,
  "nbformat_minor": 0,
  "metadata": {
    "colab": {
      "provenance": [],
      "include_colab_link": true
    },
    "kernelspec": {
      "name": "python3",
      "display_name": "Python 3"
    },
    "language_info": {
      "name": "python"
    }
  },
  "cells": [
    {
      "cell_type": "markdown",
      "metadata": {
        "id": "view-in-github",
        "colab_type": "text"
      },
      "source": [
        "<a href=\"https://colab.research.google.com/github/cboyda/MachineLearning/blob/main/PA3_Team1_W23_ipynd.ipynb\" target=\"_parent\"><img src=\"https://colab.research.google.com/assets/colab-badge.svg\" alt=\"Open In Colab\"/></a>"
      ]
    },
    {
      "cell_type": "markdown",
      "source": [
        "# **PA3: k-NN**\n",
        "\n",
        "Team member names:\n",
        "\n",
        "*  Brett Adams\n",
        "*  Cailenys Leslie\n",
        "*  Clinton Boyda\n",
        "*  Tanvir Hossain\n",
        "*  Ram Dershan\n",
        "\n",
        "Dataset: \n",
        "[New York City Airbnb Open Data](https://www.kaggle.com/datasets/dgomonov/new-york-city-airbnb-open-data)"
      ],
      "metadata": {
        "id": "zDOGttYXjqQW"
      }
    },
    {
      "cell_type": "code",
      "source": [
        "import numpy as np\n",
        "import pandas as pd\n",
        "from sklearn import datasets\n",
        "from sklearn import model_selection\n",
        "from  sklearn import neighbors\n",
        "import plotly.graph_objects as go\n",
        "import math"
      ],
      "metadata": {
        "id": "e4NpYyggom5n"
      },
      "execution_count": null,
      "outputs": []
    },
    {
      "cell_type": "markdown",
      "source": [
        "# **Feature Scaling**\n"
      ],
      "metadata": {
        "id": "NqT1wa7qkSxd"
      }
    },
    {
      "cell_type": "markdown",
      "source": [
        "### 1. Check extreme values:"
      ],
      "metadata": {
        "id": "as-YtCYLkgAx"
      }
    },
    {
      "cell_type": "markdown",
      "source": [
        "a. Define what an extreme value is for each feature, e.g., using boxplots."
      ],
      "metadata": {
        "id": "eohIJbqvmXio"
      }
    },
    {
      "cell_type": "code",
      "source": [],
      "metadata": {
        "id": "Xv4krCmWma_U"
      },
      "execution_count": null,
      "outputs": []
    },
    {
      "cell_type": "markdown",
      "source": [
        "b. Do any of your features contain extreme values? List the features & the number of extreme values for each feature.\n"
      ],
      "metadata": {
        "id": "loOpAygemCme"
      }
    },
    {
      "cell_type": "code",
      "source": [],
      "metadata": {
        "id": "9J6Vc45NlhXa"
      },
      "execution_count": null,
      "outputs": []
    },
    {
      "cell_type": "markdown",
      "source": [
        "c. Do the number of extreme values make-up a substantial portion of that feature? (e.g. 5%) Or are they so few that you could consider dropping those samples? Explain.\n"
      ],
      "metadata": {
        "id": "UVIswh5Mme5p"
      }
    },
    {
      "cell_type": "code",
      "source": [],
      "metadata": {
        "id": "oWz4JdVNmrpQ"
      },
      "execution_count": null,
      "outputs": []
    },
    {
      "cell_type": "markdown",
      "source": [
        "### 2. Min-max scale your data and store this in a variable name that indicates that you’ve min-max scaled the data, e.g., X_train_minmax."
      ],
      "metadata": {
        "id": "0ngTehuKmuMu"
      }
    },
    {
      "cell_type": "code",
      "source": [],
      "metadata": {
        "id": "Xix_W7i1m7Bk"
      },
      "execution_count": null,
      "outputs": []
    },
    {
      "cell_type": "markdown",
      "source": [
        "### 3. Standardize your data and store this in a variable name that indicates that you’ve standardized the data, e.g., X_train_standard.\n"
      ],
      "metadata": {
        "id": "EiL8RxTDnBjJ"
      }
    },
    {
      "cell_type": "code",
      "source": [],
      "metadata": {
        "id": "v_zUgdUGnE4p"
      },
      "execution_count": null,
      "outputs": []
    },
    {
      "cell_type": "markdown",
      "source": [
        "### 4. Visual & numeric comparison 1: Choose 3 features, and compare their standard deviations of after standardizing & min-max scaling. What is the difference between these two approaches on how your features are distributed [Hint: look at the mean].\n"
      ],
      "metadata": {
        "id": "qiV_e7I3nF3v"
      }
    },
    {
      "cell_type": "code",
      "source": [],
      "metadata": {
        "id": "sUp8DCOKnNx5"
      },
      "execution_count": null,
      "outputs": []
    },
    {
      "cell_type": "markdown",
      "source": [
        "### 5. Visual & numeric comparison 2: Generate a boxplot for all three datasets, the original, the  min-max scaled, and the standardized dataset. We expect to see a comparison like the one in lab, where each box-n-whiskers plot corresponds to a different feature.\n"
      ],
      "metadata": {
        "id": "plhddoVyn0a-"
      }
    },
    {
      "cell_type": "code",
      "source": [],
      "metadata": {
        "id": "OjYnEzUon9JY"
      },
      "execution_count": null,
      "outputs": []
    },
    {
      "cell_type": "markdown",
      "source": [
        "# **Exploring k-NN construction:**"
      ],
      "metadata": {
        "id": "A8ECQ4e7oBYm"
      }
    },
    {
      "cell_type": "markdown",
      "source": [
        "### 1. Vary the n_neighbors parameter:"
      ],
      "metadata": {
        "id": "OEOmutxAoK-W"
      }
    },
    {
      "cell_type": "markdown",
      "source": [
        "a. Create a k-NN classifier model querying 5 neighbors."
      ],
      "metadata": {
        "id": "UM_5p32FoQ2w"
      }
    },
    {
      "cell_type": "code",
      "source": [],
      "metadata": {
        "id": "ylwfdZiEoOF_"
      },
      "execution_count": null,
      "outputs": []
    },
    {
      "cell_type": "markdown",
      "source": [
        "b. Create a k-NN classifier model querying 11 neighbors."
      ],
      "metadata": {
        "id": "4iy3WXeboWyb"
      }
    },
    {
      "cell_type": "code",
      "source": [],
      "metadata": {
        "id": "mOCSrZOsoZbs"
      },
      "execution_count": null,
      "outputs": []
    },
    {
      "cell_type": "markdown",
      "source": [
        "c. Create a k-NN classifier model querying 15 neighbors."
      ],
      "metadata": {
        "id": "EhktKpDgobFy"
      }
    },
    {
      "cell_type": "code",
      "source": [],
      "metadata": {
        "id": "p_VswbYSofvH"
      },
      "execution_count": null,
      "outputs": []
    },
    {
      "cell_type": "markdown",
      "source": [
        "###2. Vary the weights parameter:"
      ],
      "metadata": {
        "id": "OqH0Zr-NqMYB"
      }
    },
    {
      "cell_type": "markdown",
      "source": [
        "a. Create a k-NN classifier model with weights parameter set to “uniform”."
      ],
      "metadata": {
        "id": "JXIXqyGdqlFN"
      }
    },
    {
      "cell_type": "code",
      "source": [],
      "metadata": {
        "id": "7COuoWj9qmHY"
      },
      "execution_count": null,
      "outputs": []
    },
    {
      "cell_type": "markdown",
      "source": [
        "b. Create a k-NN classifier model with weights parameter set to “distance”."
      ],
      "metadata": {
        "id": "7hmUxFQ8qwhW"
      }
    },
    {
      "cell_type": "code",
      "source": [],
      "metadata": {
        "id": "cwnedXVmqyLF"
      },
      "execution_count": null,
      "outputs": []
    },
    {
      "cell_type": "markdown",
      "source": [
        "# **k-NN evaluation:**"
      ],
      "metadata": {
        "id": "NaYpOJE4rB_W"
      }
    },
    {
      "cell_type": "markdown",
      "source": [
        "### 3. Plot the decision boundaries for each class for the different \n",
        "\n",
        "*   List item\n",
        "*   List item\n",
        "\n",
        "n_neighbors and weights.\n"
      ],
      "metadata": {
        "id": "_84xBlJerTkC"
      }
    },
    {
      "cell_type": "code",
      "source": [],
      "metadata": {
        "id": "J_rMLED8rFeR"
      },
      "execution_count": null,
      "outputs": []
    },
    {
      "cell_type": "markdown",
      "source": [
        "### 4. Use the sklearn.metrics.accuracy_score method to compare the accuracy of the several values of k, k=5, 11, and 15, and compare your original and your normalized (min-max scaled and standardized) datasets.\n",
        "\n",
        "(Ram)\n"
      ],
      "metadata": {
        "id": "1aDIMKtdraJA"
      }
    },
    {
      "cell_type": "code",
      "source": [],
      "metadata": {
        "id": "JqQwdZfIr_fU"
      },
      "execution_count": null,
      "outputs": []
    },
    {
      "cell_type": "markdown",
      "source": [
        "### 5. Test the performance of each k-NN classifier using other evaluation metrics (precision, recall and F1 scores) and see if there is any difference if you chose different metrics.\n",
        "\n",
        "(Ram)\n"
      ],
      "metadata": {
        "id": "8qOaU98EsVU7"
      }
    },
    {
      "cell_type": "code",
      "source": [],
      "metadata": {
        "id": "EcTLbJ6OsY8x"
      },
      "execution_count": null,
      "outputs": []
    },
    {
      "cell_type": "markdown",
      "source": [
        "### 6. Imagine that you have another classifier that always predicts the most common label, do a baseline comparison for your ML models.\n"
      ],
      "metadata": {
        "id": "A24yUDw1sZuL"
      }
    },
    {
      "cell_type": "code",
      "source": [],
      "metadata": {
        "id": "LI10PW1zsfiX"
      },
      "execution_count": null,
      "outputs": []
    },
    {
      "cell_type": "markdown",
      "source": [
        "### 7. Generate a simple plot of the test and training learning curve for each k-NN and check if you have a low/high bias or low/high variance learning. We can use the function learning_curve to generate the values that are required to plot such a learning curve (number of samples that have been used, the average scores on the training sets and the average scores on the validation sets):\n"
      ],
      "metadata": {
        "id": "_56odbCesqp2"
      }
    },
    {
      "cell_type": "code",
      "source": [],
      "metadata": {
        "id": "mcyJJhCvsxAE"
      },
      "execution_count": null,
      "outputs": []
    }
  ]
}